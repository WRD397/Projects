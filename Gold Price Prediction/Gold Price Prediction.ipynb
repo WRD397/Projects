{
 "cells": [
  {
   "cell_type": "markdown",
   "metadata": {},
   "source": [
    "### CONTENTS\n",
    "* [Libraries](#importing-libraries)"
   ]
  },
  {
   "cell_type": "markdown",
   "metadata": {},
   "source": [
    "<a id='importing-libraries'></a>\n",
    "## Importing Libraries"
   ]
  },
  {
   "cell_type": "code",
   "execution_count": 60,
   "metadata": {},
   "outputs": [],
   "source": [
    "import numpy as np\n",
    "import pandas as pd\n",
    "import matplotlib.pyplot as plt\n",
    "import seaborn as sns\n",
    "from plotly.offline import init_notebook_mode, iplot\n",
    "import plotly.express as px\n",
    "\n",
    "from sklearn.model_selection import train_test_split \n",
    "from sklearn.ensemble import RandomForestRegressor \n",
    "from sklearn import metrics"
   ]
  },
  {
   "cell_type": "code",
   "execution_count": 62,
   "metadata": {},
   "outputs": [
    {
     "data": {
      "text/html": [
       "        <script type=\"text/javascript\">\n",
       "        window.PlotlyConfig = {MathJaxConfig: 'local'};\n",
       "        if (window.MathJax && window.MathJax.Hub && window.MathJax.Hub.Config) {window.MathJax.Hub.Config({SVG: {font: \"STIX-Web\"}});}\n",
       "        if (typeof require !== 'undefined') {\n",
       "        require.undef(\"plotly\");\n",
       "        requirejs.config({\n",
       "            paths: {\n",
       "                'plotly': ['https://cdn.plot.ly/plotly-2.12.1.min']\n",
       "            }\n",
       "        });\n",
       "        require(['plotly'], function(Plotly) {\n",
       "            window._Plotly = Plotly;\n",
       "        });\n",
       "        }\n",
       "        </script>\n",
       "        "
      ]
     },
     "metadata": {},
     "output_type": "display_data"
    }
   ],
   "source": [
    "# We need the plotly graphs to be embedded on the notebook\n",
    "init_notebook_mode(connected = True)"
   ]
  },
  {
   "cell_type": "markdown",
   "metadata": {},
   "source": [
    "## Data"
   ]
  },
  {
   "cell_type": "code",
   "execution_count": 2,
   "metadata": {},
   "outputs": [
    {
     "data": {
      "text/html": [
       "<div>\n",
       "<style scoped>\n",
       "    .dataframe tbody tr th:only-of-type {\n",
       "        vertical-align: middle;\n",
       "    }\n",
       "\n",
       "    .dataframe tbody tr th {\n",
       "        vertical-align: top;\n",
       "    }\n",
       "\n",
       "    .dataframe thead th {\n",
       "        text-align: right;\n",
       "    }\n",
       "</style>\n",
       "<table border=\"1\" class=\"dataframe\">\n",
       "  <thead>\n",
       "    <tr style=\"text-align: right;\">\n",
       "      <th></th>\n",
       "      <th>Date</th>\n",
       "      <th>SPX</th>\n",
       "      <th>GLD</th>\n",
       "      <th>USO</th>\n",
       "      <th>SLV</th>\n",
       "      <th>EUR/USD</th>\n",
       "    </tr>\n",
       "  </thead>\n",
       "  <tbody>\n",
       "    <tr>\n",
       "      <th>0</th>\n",
       "      <td>1/2/2008</td>\n",
       "      <td>1447.160034</td>\n",
       "      <td>84.860001</td>\n",
       "      <td>78.470001</td>\n",
       "      <td>15.180</td>\n",
       "      <td>1.471692</td>\n",
       "    </tr>\n",
       "    <tr>\n",
       "      <th>1</th>\n",
       "      <td>1/3/2008</td>\n",
       "      <td>1447.160034</td>\n",
       "      <td>85.570000</td>\n",
       "      <td>78.370003</td>\n",
       "      <td>15.285</td>\n",
       "      <td>1.474491</td>\n",
       "    </tr>\n",
       "    <tr>\n",
       "      <th>2</th>\n",
       "      <td>1/4/2008</td>\n",
       "      <td>1411.630005</td>\n",
       "      <td>85.129997</td>\n",
       "      <td>77.309998</td>\n",
       "      <td>15.167</td>\n",
       "      <td>1.475492</td>\n",
       "    </tr>\n",
       "    <tr>\n",
       "      <th>3</th>\n",
       "      <td>1/7/2008</td>\n",
       "      <td>1416.180054</td>\n",
       "      <td>84.769997</td>\n",
       "      <td>75.500000</td>\n",
       "      <td>15.053</td>\n",
       "      <td>1.468299</td>\n",
       "    </tr>\n",
       "    <tr>\n",
       "      <th>4</th>\n",
       "      <td>1/8/2008</td>\n",
       "      <td>1390.189941</td>\n",
       "      <td>86.779999</td>\n",
       "      <td>76.059998</td>\n",
       "      <td>15.590</td>\n",
       "      <td>1.557099</td>\n",
       "    </tr>\n",
       "  </tbody>\n",
       "</table>\n",
       "</div>"
      ],
      "text/plain": [
       "       Date          SPX        GLD        USO     SLV   EUR/USD\n",
       "0  1/2/2008  1447.160034  84.860001  78.470001  15.180  1.471692\n",
       "1  1/3/2008  1447.160034  85.570000  78.370003  15.285  1.474491\n",
       "2  1/4/2008  1411.630005  85.129997  77.309998  15.167  1.475492\n",
       "3  1/7/2008  1416.180054  84.769997  75.500000  15.053  1.468299\n",
       "4  1/8/2008  1390.189941  86.779999  76.059998  15.590  1.557099"
      ]
     },
     "execution_count": 2,
     "metadata": {},
     "output_type": "execute_result"
    }
   ],
   "source": [
    "df_raw = pd.read_csv(\"E:\\VSCode\\Projects\\Gold Price Prediction\\gld_price_data.csv\")\n",
    "df_raw.head()"
   ]
  },
  {
   "cell_type": "markdown",
   "metadata": {},
   "source": [
    "Here GLD denotes the the Gold Price and SLV is the silver price. SPX is general stock price of publickly available stocks. EUR/USD represents the currency ratio of Euro and US Dollar. "
   ]
  },
  {
   "cell_type": "markdown",
   "metadata": {},
   "source": [
    "\n",
    "[back to top](#contents)"
   ]
  },
  {
   "cell_type": "markdown",
   "metadata": {},
   "source": [
    "To get the basic information about the Data Set, we run through the describe and info method. "
   ]
  },
  {
   "cell_type": "code",
   "execution_count": 3,
   "metadata": {},
   "outputs": [
    {
     "data": {
      "text/html": [
       "<div>\n",
       "<style scoped>\n",
       "    .dataframe tbody tr th:only-of-type {\n",
       "        vertical-align: middle;\n",
       "    }\n",
       "\n",
       "    .dataframe tbody tr th {\n",
       "        vertical-align: top;\n",
       "    }\n",
       "\n",
       "    .dataframe thead th {\n",
       "        text-align: right;\n",
       "    }\n",
       "</style>\n",
       "<table border=\"1\" class=\"dataframe\">\n",
       "  <thead>\n",
       "    <tr style=\"text-align: right;\">\n",
       "      <th></th>\n",
       "      <th>SPX</th>\n",
       "      <th>GLD</th>\n",
       "      <th>USO</th>\n",
       "      <th>SLV</th>\n",
       "      <th>EUR/USD</th>\n",
       "    </tr>\n",
       "  </thead>\n",
       "  <tbody>\n",
       "    <tr>\n",
       "      <th>count</th>\n",
       "      <td>2290.000000</td>\n",
       "      <td>2290.000000</td>\n",
       "      <td>2290.000000</td>\n",
       "      <td>2290.000000</td>\n",
       "      <td>2290.000000</td>\n",
       "    </tr>\n",
       "    <tr>\n",
       "      <th>mean</th>\n",
       "      <td>1654.315776</td>\n",
       "      <td>122.732875</td>\n",
       "      <td>31.842221</td>\n",
       "      <td>20.084997</td>\n",
       "      <td>1.283653</td>\n",
       "    </tr>\n",
       "    <tr>\n",
       "      <th>std</th>\n",
       "      <td>519.111540</td>\n",
       "      <td>23.283346</td>\n",
       "      <td>19.523517</td>\n",
       "      <td>7.092566</td>\n",
       "      <td>0.131547</td>\n",
       "    </tr>\n",
       "    <tr>\n",
       "      <th>min</th>\n",
       "      <td>676.530029</td>\n",
       "      <td>70.000000</td>\n",
       "      <td>7.960000</td>\n",
       "      <td>8.850000</td>\n",
       "      <td>1.039047</td>\n",
       "    </tr>\n",
       "    <tr>\n",
       "      <th>25%</th>\n",
       "      <td>1239.874969</td>\n",
       "      <td>109.725000</td>\n",
       "      <td>14.380000</td>\n",
       "      <td>15.570000</td>\n",
       "      <td>1.171313</td>\n",
       "    </tr>\n",
       "    <tr>\n",
       "      <th>50%</th>\n",
       "      <td>1551.434998</td>\n",
       "      <td>120.580002</td>\n",
       "      <td>33.869999</td>\n",
       "      <td>17.268500</td>\n",
       "      <td>1.303297</td>\n",
       "    </tr>\n",
       "    <tr>\n",
       "      <th>75%</th>\n",
       "      <td>2073.010070</td>\n",
       "      <td>132.840004</td>\n",
       "      <td>37.827501</td>\n",
       "      <td>22.882500</td>\n",
       "      <td>1.369971</td>\n",
       "    </tr>\n",
       "    <tr>\n",
       "      <th>max</th>\n",
       "      <td>2872.870117</td>\n",
       "      <td>184.589996</td>\n",
       "      <td>117.480003</td>\n",
       "      <td>47.259998</td>\n",
       "      <td>1.598798</td>\n",
       "    </tr>\n",
       "  </tbody>\n",
       "</table>\n",
       "</div>"
      ],
      "text/plain": [
       "               SPX          GLD          USO          SLV      EUR/USD\n",
       "count  2290.000000  2290.000000  2290.000000  2290.000000  2290.000000\n",
       "mean   1654.315776   122.732875    31.842221    20.084997     1.283653\n",
       "std     519.111540    23.283346    19.523517     7.092566     0.131547\n",
       "min     676.530029    70.000000     7.960000     8.850000     1.039047\n",
       "25%    1239.874969   109.725000    14.380000    15.570000     1.171313\n",
       "50%    1551.434998   120.580002    33.869999    17.268500     1.303297\n",
       "75%    2073.010070   132.840004    37.827501    22.882500     1.369971\n",
       "max    2872.870117   184.589996   117.480003    47.259998     1.598798"
      ]
     },
     "execution_count": 3,
     "metadata": {},
     "output_type": "execute_result"
    }
   ],
   "source": [
    "df_raw.describe()"
   ]
  },
  {
   "cell_type": "code",
   "execution_count": 4,
   "metadata": {},
   "outputs": [
    {
     "name": "stdout",
     "output_type": "stream",
     "text": [
      "<class 'pandas.core.frame.DataFrame'>\n",
      "RangeIndex: 2290 entries, 0 to 2289\n",
      "Data columns (total 6 columns):\n",
      " #   Column   Non-Null Count  Dtype  \n",
      "---  ------   --------------  -----  \n",
      " 0   Date     2290 non-null   object \n",
      " 1   SPX      2290 non-null   float64\n",
      " 2   GLD      2290 non-null   float64\n",
      " 3   USO      2290 non-null   float64\n",
      " 4   SLV      2290 non-null   float64\n",
      " 5   EUR/USD  2290 non-null   float64\n",
      "dtypes: float64(5), object(1)\n",
      "memory usage: 107.5+ KB\n"
     ]
    }
   ],
   "source": [
    "df_raw.info()"
   ]
  },
  {
   "cell_type": "code",
   "execution_count": 5,
   "metadata": {},
   "outputs": [
    {
     "data": {
      "text/plain": [
       "Date       0\n",
       "SPX        0\n",
       "GLD        0\n",
       "USO        0\n",
       "SLV        0\n",
       "EUR/USD    0\n",
       "dtype: int64"
      ]
     },
     "execution_count": 5,
     "metadata": {},
     "output_type": "execute_result"
    }
   ],
   "source": [
    "df_raw.isnull().sum()"
   ]
  },
  {
   "cell_type": "markdown",
   "metadata": {},
   "source": [
    "Thus we can be sure for one thing, that there's no missing value in the DataSet."
   ]
  },
  {
   "cell_type": "markdown",
   "metadata": {},
   "source": [
    "## Correlation"
   ]
  },
  {
   "cell_type": "markdown",
   "metadata": {},
   "source": [
    "Correlations can be of two types<br>\n",
    " . Positive<br>\n",
    " . Negative<br>\n",
    " ie. if one parameter is decreasing with the increment of our target parameter then we would say that the parameter is negatively correlated with our target parameter. Similarly if a parameter is increasing with increment in our target parameter then it would represent a positive correlation."
   ]
  },
  {
   "cell_type": "code",
   "execution_count": 6,
   "metadata": {},
   "outputs": [],
   "source": [
    "correlation = df_raw.corr()"
   ]
  },
  {
   "cell_type": "markdown",
   "metadata": {},
   "source": [
    "heatmap"
   ]
  },
  {
   "cell_type": "code",
   "execution_count": 7,
   "metadata": {},
   "outputs": [
    {
     "data": {
      "text/plain": [
       "<AxesSubplot:>"
      ]
     },
     "execution_count": 7,
     "metadata": {},
     "output_type": "execute_result"
    },
    {
     "data": {
      "image/png": "[encoded data removed]",
      "text/plain": [
       "<Figure size 648x648 with 2 Axes>"
      ]
     },
     "metadata": {
      "needs_background": "light"
     },
     "output_type": "display_data"
    }
   ],
   "source": [
    "plt.figure(figsize=(9,9))\n",
    "sns.heatmap(correlation, cbar = True, fmt='.1f',annot=True, annot_kws={'size':10}, cmap='Greens')"
   ]
  },
  {
   "cell_type": "code",
   "execution_count": 8,
   "metadata": {},
   "outputs": [
    {
     "name": "stdout",
     "output_type": "stream",
     "text": [
      "SPX        0.049345\n",
      "GLD        1.000000\n",
      "USO       -0.186360\n",
      "SLV        0.866632\n",
      "EUR/USD   -0.024375\n",
      "Name: GLD, dtype: float64\n"
     ]
    }
   ],
   "source": [
    "print(correlation['GLD'])"
   ]
  },
  {
   "cell_type": "markdown",
   "metadata": {},
   "source": [
    "Thus we can see that USO and the currency ratio have a negative correlation with our target parameter Gold Price."
   ]
  },
  {
   "cell_type": "code",
   "execution_count": 9,
   "metadata": {},
   "outputs": [
    {
     "data": {
      "text/plain": [
       "<AxesSubplot:xlabel='GLD', ylabel='Count'>"
      ]
     },
     "execution_count": 9,
     "metadata": {},
     "output_type": "execute_result"
    },
    {
     "data": {
      "image/png": "[encoded data removed]",
      "text/plain": [
       "<Figure size 432x288 with 1 Axes>"
      ]
     },
     "metadata": {
      "needs_background": "light"
     },
     "output_type": "display_data"
    }
   ],
   "source": [
    "sns.histplot(df_raw['GLD'])"
   ]
  },
  {
   "cell_type": "markdown",
   "metadata": {},
   "source": [
    "# PREDICTION"
   ]
  },
  {
   "cell_type": "code",
   "execution_count": 10,
   "metadata": {},
   "outputs": [
    {
     "name": "stdout",
     "output_type": "stream",
     "text": [
      "              SPX        USO      SLV   EUR/USD\n",
      "0     1447.160034  78.470001  15.1800  1.471692\n",
      "1     1447.160034  78.370003  15.2850  1.474491\n",
      "2     1411.630005  77.309998  15.1670  1.475492\n",
      "3     1416.180054  75.500000  15.0530  1.468299\n",
      "4     1390.189941  76.059998  15.5900  1.557099\n",
      "...           ...        ...      ...       ...\n",
      "2285  2671.919922  14.060000  15.5100  1.186789\n",
      "2286  2697.790039  14.370000  15.5300  1.184722\n",
      "2287  2723.070068  14.410000  15.7400  1.191753\n",
      "2288  2730.129883  14.380000  15.5600  1.193118\n",
      "2289  2725.780029  14.405800  15.4542  1.182033\n",
      "\n",
      "[2290 rows x 4 columns]\n",
      "0        84.860001\n",
      "1        85.570000\n",
      "2        85.129997\n",
      "3        84.769997\n",
      "4        86.779999\n",
      "           ...    \n",
      "2285    124.589996\n",
      "2286    124.330002\n",
      "2287    125.180000\n",
      "2288    124.489998\n",
      "2289    122.543800\n",
      "Name: GLD, Length: 2290, dtype: float64\n"
     ]
    }
   ],
   "source": [
    "#splitting the feature sand targets\n",
    "X = df_raw.drop(['Date','GLD'], axis=1)\n",
    "Y = df_raw.GLD\n",
    "print(X)\n",
    "print(Y)"
   ]
  },
  {
   "cell_type": "markdown",
   "metadata": {},
   "source": [
    "Splitting into Training an dTesting data"
   ]
  },
  {
   "cell_type": "code",
   "execution_count": 11,
   "metadata": {},
   "outputs": [],
   "source": [
    "X_train, X_test, Y_train, Y_test = train_test_split(X,Y, test_size = 0.2, random_state=2)"
   ]
  },
  {
   "cell_type": "code",
   "execution_count": 12,
   "metadata": {},
   "outputs": [],
   "source": [
    "model = RandomForestRegressor(n_estimators = 100, random_state=2)"
   ]
  },
  {
   "cell_type": "code",
   "execution_count": 13,
   "metadata": {},
   "outputs": [
    {
     "data": {
      "text/plain": [
       "RandomForestRegressor(random_state=2)"
      ]
     },
     "execution_count": 13,
     "metadata": {},
     "output_type": "execute_result"
    }
   ],
   "source": [
    "model.fit(X_train, Y_train)"
   ]
  },
  {
   "cell_type": "code",
   "execution_count": 14,
   "metadata": {},
   "outputs": [],
   "source": [
    "#prediction\n",
    "prediction = model.predict(X_test)"
   ]
  },
  {
   "cell_type": "code",
   "execution_count": 15,
   "metadata": {},
   "outputs": [
    {
     "name": "stdout",
     "output_type": "stream",
     "text": [
      "[168.11379932  82.23519965 116.22490032 127.70480079 120.65890158\n",
      " 154.78889721 149.69589755 126.12270048 117.41669876 126.11890066\n",
      " 116.90020126 171.56690077 141.86319844 167.79489879 115.18020028\n",
      " 117.81960059 139.20070298 170.28390114 159.17470285 158.59569966\n",
      " 155.07480021 125.23220003 176.43619959 156.89410326 125.24900038\n",
      "  93.86899998  76.93210017 120.74380005 119.12259955 167.61919981\n",
      "  88.18580007 125.26050004  91.07990071 117.57250049 121.07749913\n",
      " 136.55970098 115.53570086 115.39860083 148.97049957 107.18050102\n",
      " 104.19980257  87.24959778 126.5021005  118.20639983 153.41749912\n",
      " 119.73489967 108.46519982 108.01749814  92.99170026 127.27349752\n",
      "  75.56760045 113.79569945 121.32939993 111.31929935 118.86579891\n",
      " 120.89249961 158.77939994 168.49440108 147.09019666  85.77549852\n",
      "  94.23570036  86.7967992   90.46990009 119.01700073 126.45980073\n",
      " 127.62500019 170.14950032 122.25569933 117.49489887  98.44850012\n",
      " 167.97310066 142.75829825 131.95160314 121.0854019  121.10159948\n",
      " 119.84490049 114.60030177 118.28020073 107.14340108 127.82860103\n",
      " 114.26499934 106.88050006 117.21190052 119.54539831  88.97300094\n",
      "  88.2855986  146.40150193 127.27890008 113.12920029 110.36299848\n",
      " 108.14589896  77.16189918 169.74440257 114.08259915 121.75199881\n",
      " 128.13650182 154.87199814  91.67959932 136.54900138 158.72240322\n",
      " 125.57260064 125.21840043 130.63380147 114.98810127 119.86390024\n",
      "  92.07039977 110.02599859 167.59199956 157.07469924 114.37589993\n",
      " 106.64830124  79.46819994 112.99170033 125.93940091 107.05799927\n",
      " 119.54710098 156.12180314 159.74909887 120.15449982 134.26110287\n",
      " 101.49259968 117.63299799 119.40450007 113.01340056 102.72679915\n",
      " 160.36529755  99.06610045 147.8602991  125.64680094 169.57309953\n",
      " 125.60489919 127.3779974  127.42120175 113.59429965 113.03170079\n",
      " 123.64489937 102.17869879  89.16859971 124.31369958 102.0482993\n",
      " 107.08099951 113.92810079 117.34330067  99.06749943 121.69930059\n",
      " 163.20239922  87.42259868 106.66929968 117.23980102 127.68250147\n",
      " 123.97630065  80.73399935 120.53760093 157.93059786  87.81759971\n",
      " 110.18329949 118.69219917 171.5971987  102.89869926 105.38940053\n",
      " 122.55290002 158.15249787  87.63979864  93.31580025 112.32290053\n",
      " 177.4316004  114.28670022 119.36439998  94.79350084 125.58230027\n",
      " 166.07450119 115.06540086 116.74890133  88.3070986  148.98880046\n",
      " 120.4140993   89.67989988 111.85880024 117.2462003  118.55230135\n",
      "  88.21489972  94.33529986 116.86799997 118.36270157 120.35540089\n",
      " 126.80959788 122.04649936 151.98350005 165.32020036 118.52299994\n",
      " 120.31740123 150.57840075 118.4648992  172.58809836 105.91099937\n",
      " 104.99940138 149.48690061 113.89930041 124.8817013  147.46589893\n",
      " 119.5410013  115.26310088 112.50620007 113.55230173 141.67010184\n",
      " 117.89079764 102.9334002  115.98500162 103.12680195  98.59760016\n",
      " 117.32270071  90.73699983  91.46280033 153.20739951 102.69389965\n",
      " 154.78700101 114.41520141 138.53030082  90.16059842 115.47049937\n",
      " 114.76939959 123.25840037 121.80140025 165.43250166  92.77379937\n",
      " 134.76210148 121.4259991  120.83800058 104.85500005 142.02240332\n",
      " 122.06839901 116.57800049 112.97630121 126.83249777 122.52219942\n",
      " 125.89719966 121.25830059  86.77549899 132.80310071 144.23570237\n",
      "  92.72259944 159.99550014 159.47950236 126.49109913 165.66429964\n",
      " 108.80759948 110.42230088 103.64559834  94.14010077 127.47290236\n",
      " 107.05730065 163.62080013 121.69890045 132.11260091 130.66010137\n",
      " 160.49329967  90.20969846 175.67920157 127.73620033 126.74579847\n",
      "  86.38759925 124.35559893 150.21779737  89.73500009 106.8466997\n",
      " 109.24679995  84.67419906 135.88239967 154.67500212 139.20160357\n",
      "  73.37920062 152.43610105 125.98779934 126.78120008 127.6185986\n",
      " 108.67669978 155.80560038 114.62860128 116.91640148 125.13339941\n",
      " 154.21640163 121.18519992 156.40479919  92.98460042 125.50920151\n",
      " 125.77630027  88.04500062  92.03839916 126.17989965 128.24190369\n",
      " 113.23440038 117.52229713 120.92620024 126.88409807 119.37990116\n",
      " 136.56320101  93.96289934 119.79920042 113.17790107  94.26809921\n",
      " 108.85309975  87.23029917 109.48129925  89.67069984  92.47930009\n",
      " 131.52020311 162.40330133  89.19350026 119.50960084 133.17010166\n",
      " 123.99100025 128.25690266 101.94589832  88.85709845 132.61940078\n",
      " 119.59630052 108.46929982 168.47900104 115.09990053  86.65499904\n",
      " 118.79540055  90.97749963 161.78270103 116.55530045 121.38990016\n",
      " 160.02469854 120.23319919 112.43859998 108.44029856 126.70890006\n",
      "  75.95550056 102.98819981 127.65910257 121.76779926  92.54330016\n",
      " 131.81600085 118.16660111 115.66069987 154.64030251 158.44030109\n",
      " 110.07259954 154.03159728 119.33340118 160.43620101 118.68750056\n",
      " 157.63639913 115.0536991  116.35670024 148.39809844 115.00260069\n",
      " 126.0898988  166.55749913 117.66760025 125.17409904 153.2828035\n",
      " 153.43200236 132.24020009 114.88760027 121.17440192 125.14090036\n",
      "  89.76140063 123.21309989 154.7222008  111.72140014 106.53160006\n",
      " 161.9415018  118.5251999  165.80649991 134.07740101 114.85499982\n",
      " 152.91589825 168.67690004 114.76380027 113.97270114 159.03289907\n",
      "  85.06319903 127.13400049 127.8364009  128.76339925 124.38750046\n",
      " 123.97350072  90.57820055 153.246499    97.17249957 137.26830006\n",
      "  89.18929927 106.90790019 114.98480037 112.4865007  124.38239941\n",
      "  91.47389848 125.50160126 162.33259901 120.14159889 165.01640118\n",
      " 126.82469789 112.51049992 127.52349939  94.8436989   91.04350005\n",
      " 103.32829899 120.80169999  83.51699977 126.28199944 160.13690453\n",
      " 117.24010077 118.32379988 120.03460006 122.8549995  120.12830132\n",
      " 121.39019996 118.00370056 107.00610029 148.12559928 126.44129851\n",
      " 115.73380098  73.7619002  127.79960109 154.16360067 122.24059975\n",
      " 125.56530028  88.88420003 103.14949884 124.6801006  120.27800023\n",
      "  73.289901   151.56179986 121.16220021 104.85670038  86.36179767\n",
      " 115.27379967 172.22169866 119.87000051 159.41659763 113.16319952\n",
      " 121.03840011 118.72930085  95.82019983 118.72600001 125.96070044\n",
      " 118.55479959  95.96920071 154.01310172 121.90839991 147.70820002\n",
      " 158.78600318 114.01620031 122.4771995  151.23889885 127.51000047\n",
      " 165.65960071 135.33630055 120.03639964 167.67179846 108.41649915\n",
      " 121.47919898 138.6349016  107.26999896]\n"
     ]
    }
   ],
   "source": [
    "print(prediction)"
   ]
  },
  {
   "cell_type": "code",
   "execution_count": 16,
   "metadata": {},
   "outputs": [
    {
     "name": "stdout",
     "output_type": "stream",
     "text": [
      "0.9884562581856317\n"
     ]
    }
   ],
   "source": [
    "#evaluation\n",
    "error_score = metrics.r2_score(Y_test, prediction)\n",
    "print(error_score)"
   ]
  },
  {
   "cell_type": "code",
   "execution_count": 18,
   "metadata": {},
   "outputs": [
    {
     "data": {
      "text/html": [
       "<div>\n",
       "<style scoped>\n",
       "    .dataframe tbody tr th:only-of-type {\n",
       "        vertical-align: middle;\n",
       "    }\n",
       "\n",
       "    .dataframe tbody tr th {\n",
       "        vertical-align: top;\n",
       "    }\n",
       "\n",
       "    .dataframe thead th {\n",
       "        text-align: right;\n",
       "    }\n",
       "</style>\n",
       "<table border=\"1\" class=\"dataframe\">\n",
       "  <thead>\n",
       "    <tr style=\"text-align: right;\">\n",
       "      <th></th>\n",
       "      <th>Actual</th>\n",
       "      <th>Predicted</th>\n",
       "    </tr>\n",
       "  </thead>\n",
       "  <tbody>\n",
       "    <tr>\n",
       "      <th>0</th>\n",
       "      <td>168.020004</td>\n",
       "      <td>168.113799</td>\n",
       "    </tr>\n",
       "    <tr>\n",
       "      <th>1</th>\n",
       "      <td>81.230003</td>\n",
       "      <td>82.235200</td>\n",
       "    </tr>\n",
       "    <tr>\n",
       "      <th>2</th>\n",
       "      <td>112.320000</td>\n",
       "      <td>116.224900</td>\n",
       "    </tr>\n",
       "    <tr>\n",
       "      <th>3</th>\n",
       "      <td>127.589996</td>\n",
       "      <td>127.704801</td>\n",
       "    </tr>\n",
       "    <tr>\n",
       "      <th>4</th>\n",
       "      <td>119.620003</td>\n",
       "      <td>120.658902</td>\n",
       "    </tr>\n",
       "  </tbody>\n",
       "</table>\n",
       "</div>"
      ],
      "text/plain": [
       "       Actual   Predicted\n",
       "0  168.020004  168.113799\n",
       "1   81.230003   82.235200\n",
       "2  112.320000  116.224900\n",
       "3  127.589996  127.704801\n",
       "4  119.620003  120.658902"
      ]
     },
     "execution_count": 18,
     "metadata": {},
     "output_type": "execute_result"
    }
   ],
   "source": [
    "comparison = pd.DataFrame(list(zip(Y_test_list,prediction)),\n",
    "                        columns = ['Actual','Predicted'])\n",
    "comparison.head()"
   ]
  },
  {
   "cell_type": "code",
   "execution_count": 19,
   "metadata": {},
   "outputs": [
    {
     "data": {
      "text/html": [
       "<div>\n",
       "<style scoped>\n",
       "    .dataframe tbody tr th:only-of-type {\n",
       "        vertical-align: middle;\n",
       "    }\n",
       "\n",
       "    .dataframe tbody tr th {\n",
       "        vertical-align: top;\n",
       "    }\n",
       "\n",
       "    .dataframe thead th {\n",
       "        text-align: right;\n",
       "    }\n",
       "</style>\n",
       "<table border=\"1\" class=\"dataframe\">\n",
       "  <thead>\n",
       "    <tr style=\"text-align: right;\">\n",
       "      <th></th>\n",
       "      <th>Actual</th>\n",
       "      <th>Predicted</th>\n",
       "    </tr>\n",
       "    <tr>\n",
       "      <th>Number_of_Values</th>\n",
       "      <th></th>\n",
       "      <th></th>\n",
       "    </tr>\n",
       "  </thead>\n",
       "  <tbody>\n",
       "    <tr>\n",
       "      <th>0</th>\n",
       "      <td>168.020004</td>\n",
       "      <td>168.113799</td>\n",
       "    </tr>\n",
       "    <tr>\n",
       "      <th>1</th>\n",
       "      <td>81.230003</td>\n",
       "      <td>82.235200</td>\n",
       "    </tr>\n",
       "    <tr>\n",
       "      <th>2</th>\n",
       "      <td>112.320000</td>\n",
       "      <td>116.224900</td>\n",
       "    </tr>\n",
       "    <tr>\n",
       "      <th>3</th>\n",
       "      <td>127.589996</td>\n",
       "      <td>127.704801</td>\n",
       "    </tr>\n",
       "    <tr>\n",
       "      <th>4</th>\n",
       "      <td>119.620003</td>\n",
       "      <td>120.658902</td>\n",
       "    </tr>\n",
       "  </tbody>\n",
       "</table>\n",
       "</div>"
      ],
      "text/plain": [
       "                      Actual   Predicted\n",
       "Number_of_Values                        \n",
       "0                 168.020004  168.113799\n",
       "1                  81.230003   82.235200\n",
       "2                 112.320000  116.224900\n",
       "3                 127.589996  127.704801\n",
       "4                 119.620003  120.658902"
      ]
     },
     "execution_count": 19,
     "metadata": {},
     "output_type": "execute_result"
    }
   ],
   "source": [
    "comparison['Number_of_Values'] = comparison.index\n",
    "comparison.set_index('Number_of_Values', inplace =True)\n",
    "comparison.head()"
   ]
  },
  {
   "cell_type": "code",
   "execution_count": 57,
   "metadata": {},
   "outputs": [
    {
     "data": {
      "application/vnd.plotly.v1+json": {
       "config": {
        "linkText": "Export to plot.ly",
        "plotlyServerURL": "https://plot.ly",
        "showLink": false
       },
       "data": [
        {
         "hovertemplate": "variable=Actual<br>Number_of_Values=%{x}<br>value=%{y}<extra></extra>",
         "legendgroup": "Actual",
         "line": {
          "color": "#636efa",
          "dash": "solid"
         },
         "marker": {
          "symbol": "circle"
         },
         "mode": "lines",
         "name": "Actual",
         "orientation": "v",
         "showlegend": true,
         "type": "scatter",
         "x": [
          0,
          1,
          2,
          3,
          4,
          5,
          6,
          7,
          8,
          9,
          10,
          11,
          12,
          13,
          14,
          15,
          16,
          17,
          18,
          19,
          20,
          21,
          22,
          23,
          24,
          25,
          26,
          27,
          28,
          29,
          30,
          31,
          32,
          33,
          34,
          35,
          36,
          37,
          38,
          39,
          40,
          41,
          42,
          43,
          44,
          45,
          46,
          47,
          48,
          49,
          50,
          51,
          52,
          53,
          54,
          55,
          56,
          57,
          58,
          59,
          60,
          61,
          62,
          63,
          64,
          65,
          66,
          67,
          68,
          69,
          70,
          71,
          72,
          73,
          74,
          75,
          76,
          77,
          78,
          79,
          80,
          81,
          82,
          83,
          84,
          85,
          86,
          87,
          88,
          89,
          90,
          91,
          92,
          93,
          94,
          95,
          96,
          97,
          98,
          99,
          100,
          101,
          102,
          103,
          104,
          105,
          106,
          107,
          108,
          109,
          110,
          111,
          112,
          113,
          114,
          115,
          116,
          117,
          118,
          119,
          120,
          121,
          122,
          123,
          124,
          125,
          126,
          127,
          128,
          129,
          130,
          131,
          132,
          133,
          134,
          135,
          136,
          137,
          138,
          139,
          140,
          141,
          142,
          143,
          144,
          145,
          146,
          147,
          148,
          149,
          150,
          151,
          152,
          153,
          154,
          155,
          156,
          157,
          158,
          159,
          160,
          161,
          162,
          163,
          164,
          165,
          166,
          167,
          168,
          169,
          170,
          171,
          172,
          173,
          174,
          175,
          176,
          177,
          178,
          179,
          180,
          181,
          182,
          183,
          184,
          185,
          186,
          187,
          188,
          189,
          190,
          191,
          192,
          193,
          194,
          195,
          196,
          197,
          198,
          199,
          200,
          201,
          202,
          203,
          204,
          205,
          206,
          207,
          208,
          209,
          210,
          211,
          212,
          213,
          214,
          215,
          216,
          217,
          218,
          219,
          220,
          221,
          222,
          223,
          224,
          225,
          226,
          227,
          228,
          229,
          230,
          231,
          232,
          233,
          234,
          235,
          236,
          237,
          238,
          239,
          240,
          241,
          242,
          243,
          244,
          245,
          246,
          247,
          248,
          249,
          250,
          251,
          252,
          253,
          254,
          255,
          256,
          257,
          258,
          259,
          260,
          261,
          262,
          263,
          264,
          265,
          266,
          267,
          268,
          269,
          270,
          271,
          272,
          273,
          274,
          275,
          276,
          277,
          278,
          279,
          280,
          281,
          282,
          283,
          284,
          285,
          286,
          287,
          288,
          289,
          290,
          291,
          292,
          293,
          294,
          295,
          296,
          297,
          298,
          299,
          300,
          301,
          302,
          303,
          304,
          305,
          306,
          307,
          308,
          309,
          310,
          311,
          312,
          313,
          314,
          315,
          316,
          317,
          318,
          319,
          320,
          321,
          322,
          323,
          324,
          325,
          326,
          327,
          328,
          329,
          330,
          331,
          332,
          333,
          334,
          335,
          336,
          337,
          338,
          339,
          340,
          341,
          342,
          343,
          344,
          345,
          346,
          347,
          348,
          349,
          350,
          351,
          352,
          353,
          354,
          355,
          356,
          357,
          358,
          359,
          360,
          361,
          362,
          363,
          364,
          365,
          366,
          367,
          368,
          369,
          370,
          371,
          372,
          373,
          374,
          375,
          376,
          377,
          378,
          379,
          380,
          381,
          382,
          383,
          384,
          385,
          386,
          387,
          388,
          389,
          390,
          391,
          392,
          393,
          394,
          395,
          396,
          397,
          398,
          399,
          400,
          401,
          402,
          403,
          404,
          405,
          406,
          407,
          408,
          409,
          410,
          411,
          412,
          413,
          414,
          415,
          416,
          417,
          418,
          419,
          420,
          421,
          422,
          423,
          424,
          425,
          426,
          427,
          428,
          429,
          430,
          431,
          432,
          433,
          434,
          435,
          436,
          437,
          438,
          439,
          440,
          441,
          442,
          443,
          444,
          445,
          446,
          447,
          448,
          449,
          450,
          451,
          452,
          453,
          454,
          455,
          456,
          457
         ],
         "xaxis": "x",
         "y": [
          168.020004,
          81.230003,
          112.32,
          127.589996,
          119.620003,
          154.210007,
          148.910004,
          126.190002,
          117.470001,
          125.739998,
          115.379997,
          167.119995,
          141.630005,
          169.559998,
          115.599998,
          119.669998,
          132.949997,
          170.399994,
          159.369995,
          173.529999,
          154.720001,
          128.119995,
          177.720001,
          157.190002,
          125.309998,
          93.400002,
          76.790001,
          119.690002,
          118.989998,
          167.389999,
          87.5,
          124.980003,
          91.230003,
          115.489998,
          120.949997,
          133.809998,
          116.690002,
          113.809998,
          133.580002,
          105.970001,
          105.120003,
          87.959999,
          126.82,
          116.860001,
          159.259995,
          119.459999,
          109.160004,
          108.620003,
          93.269997,
          127.160004,
          72.260002,
          113.470001,
          119.68,
          109.139999,
          119.309998,
          120.050003,
          159.889999,
          161.490005,
          146.740005,
          85.809998,
          93.709999,
          85.550003,
          91.029999,
          118.489998,
          126.449997,
          126.980003,
          171.699997,
          122.400002,
          116.410004,
          97.959999,
          169.630005,
          142.639999,
          131.809998,
          121.360001,
          124,
          119.699997,
          113.889999,
          118.919998,
          105.639999,
          127.669998,
          114.32,
          107.309998,
          114.82,
          119.230003,
          86.860001,
          87.010002,
          147.729996,
          128.199997,
          113.260002,
          110.82,
          107.360001,
          74.220001,
          172.940002,
          114.099998,
          121.650002,
          129.110001,
          156.770004,
          91.660004,
          133.479996,
          161.029999,
          128.470001,
          125.75,
          132.289993,
          114.019997,
          118.230003,
          93.709999,
          111.150002,
          164.289993,
          157.770004,
          115.510002,
          107.129997,
          83.309998,
          115.150002,
          125.540001,
          106.080002,
          120.580002,
          157.139999,
          161.059998,
          120.309998,
          133.070007,
          103.949997,
          116.360001,
          119.309998,
          112.370003,
          102.839996,
          161.199997,
          97.050003,
          147.830002,
          125.32,
          171.139999,
          123.540001,
          127.07,
          127.959999,
          114.830002,
          111.540001,
          122.849998,
          100.5,
          90.040001,
          123.989998,
          98.900002,
          106.169998,
          110.82,
          120.389999,
          98.849998,
          122.449997,
          162.300003,
          86.650002,
          106.150002,
          116.43,
          127.959999,
          122.830002,
          80.760002,
          119.529999,
          159.729996,
          88.470001,
          110.160004,
          115.940002,
          170.75,
          102.339996,
          105.019997,
          122.730003,
          160.330002,
          86.949997,
          93.190002,
          111.43,
          172.360001,
          114.120003,
          120.129997,
          93.699997,
          126.089996,
          167.619995,
          116.330002,
          117.120003,
          87.25,
          149.199997,
          118.690002,
          89.419998,
          113.650002,
          115.519997,
          118.669998,
          86.989998,
          93.830002,
          116.550003,
          118.300003,
          121.800003,
          127.660004,
          122.699997,
          137.710007,
          163.630005,
          118.43,
          120.870003,
          152.619995,
          117.959999,
          160.639999,
          99.910004,
          104.269997,
          149.820007,
          110.449997,
          125.440002,
          145.649994,
          120.220001,
          115.68,
          113.029999,
          112.150002,
          134.050003,
          118.059998,
          102.610001,
          116.339996,
          104.68,
          98.830002,
          116.089996,
          91.089996,
          92.080002,
          154.669998,
          102.43,
          154.770004,
          113.68,
          138.089996,
          91.330002,
          116.330002,
          115.669998,
          122.5438,
          122.290001,
          166.020004,
          92.739998,
          137.240005,
          121.309998,
          119.550003,
          104.669998,
          135.050003,
          122.919998,
          115.620003,
          113.150002,
          124.269997,
          123.349998,
          125.779999,
          121.559998,
          85.82,
          132.449997,
          154.869995,
          92.059998,
          148.970001,
          161.880005,
          127.199997,
          167.350006,
          108.559998,
          110.440002,
          104.209999,
          95.769997,
          129.470001,
          108.349998,
          149.119995,
          121.730003,
          131.699997,
          131.960007,
          160.990005,
          90.57,
          173.889999,
          128.089996,
          127.550003,
          86.779999,
          123.940002,
          150.419998,
          89.269997,
          108.050003,
          111.019997,
          89.18,
          138.369995,
          156.220001,
          134.660004,
          73.580002,
          152.970001,
          126.559998,
          126.139999,
          127.75,
          108.360001,
          157.460007,
          114,
          116.989998,
          126.860001,
          155.240005,
          120.650002,
          156.990005,
          92.790001,
          125.389999,
          124.889999,
          88.25,
          91.93,
          126.339996,
          128.839996,
          112.889999,
          117.360001,
          119.739998,
          128.179993,
          121.480003,
          134.199997,
          93.900002,
          118.900002,
          112.300003,
          94.779999,
          108.699997,
          86.709999,
          110.260002,
          88.639999,
          93.239998,
          131.320007,
          163.089996,
          90.120003,
          119.82,
          133.940002,
          125.839996,
          127.739998,
          101.459999,
          89.18,
          132.199997,
          122.150002,
          110.529999,
          172.070007,
          115.279999,
          85.389999,
          121.959999,
          90.760002,
          161.300003,
          116.519997,
          120.400002,
          160.490005,
          121.489998,
          114.949997,
          109.980003,
          126.529999,
          73.449997,
          102.040001,
          130.229996,
          121.099998,
          91.169998,
          132.089996,
          117.970001,
          116.110001,
          156.25,
          161.600006,
          110.209999,
          135.410004,
          119.040001,
          162.020004,
          118.080002,
          159.699997,
          114.43,
          117.980003,
          147.770004,
          115.330002,
          126.230003,
          165.589996,
          116.790001,
          125.029999,
          153.229996,
          153.470001,
          132.809998,
          115.029999,
          120.959999,
          126.470001,
          93.089996,
          122.519997,
          151.410004,
          111.669998,
          106.949997,
          162.619995,
          120.050003,
          165.160004,
          131.570007,
          116.169998,
          152.990005,
          169.429993,
          110.57,
          115.379997,
          161.199997,
          85.43,
          128.110001,
          127.269997,
          129.210007,
          125.610001,
          124.230003,
          91.099998,
          151.619995,
          96.089996,
          136.179993,
          90.25,
          106.93,
          115.470001,
          111.540001,
          126.309998,
          90.919998,
          125.410004,
          163.350006,
          117.959999,
          166.070007,
          127.790001,
          111.5,
          127.580002,
          96.910004,
          89.980003,
          99.339996,
          120.419998,
          82.199997,
          125.370003,
          159.429993,
          117.099998,
          120.730003,
          118.650002,
          120.620003,
          119.480003,
          121.18,
          118.809998,
          107.559998,
          146.380005,
          122.830002,
          115.43,
          71.709999,
          128.070007,
          157.199997,
          120.860001,
          126.239998,
          89.010002,
          102.550003,
          124.32,
          119.910004,
          72.150002,
          150.75,
          120.029999,
          104.099998,
          86.230003,
          113.580002,
          172.100006,
          121.480003,
          161.539993,
          112.769997,
          122.419998,
          120.940002,
          95.989998,
          120.760002,
          125.32,
          118.080002,
          97.730003,
          154.649994,
          120.589996,
          143.470001,
          160.589996,
          111.629997,
          122.120003,
          146.240005,
          127.959999,
          164.119995,
          133.429993,
          122.379997,
          166.380005,
          106.379997,
          122.239998,
          133.830002,
          102.360001
         ],
         "yaxis": "y"
        },
        {
         "hovertemplate": "variable=Predicted<br>Number_of_Values=%{x}<br>value=%{y}<extra></extra>",
         "legendgroup": "Predicted",
         "line": {
          "color": "#EF553B",
          "dash": "solid"
         },
         "marker": {
          "symbol": "circle"
         },
         "mode": "lines",
         "name": "Predicted",
         "orientation": "v",
         "showlegend": true,
         "type": "scatter",
         "x": [
          0,
          1,
          2,
          3,
          4,
          5,
          6,
          7,
          8,
          9,
          10,
          11,
          12,
          13,
          14,
          15,
          16,
          17,
          18,
          19,
          20,
          21,
          22,
          23,
          24,
          25,
          26,
          27,
          28,
          29,
          30,
          31,
          32,
          33,
          34,
          35,
          36,
          37,
          38,
          39,
          40,
          41,
          42,
          43,
          44,
          45,
          46,
          47,
          48,
          49,
          50,
          51,
          52,
          53,
          54,
          55,
          56,
          57,
          58,
          59,
          60,
          61,
          62,
          63,
          64,
          65,
          66,
          67,
          68,
          69,
          70,
          71,
          72,
          73,
          74,
          75,
          76,
          77,
          78,
          79,
          80,
          81,
          82,
          83,
          84,
          85,
          86,
          87,
          88,
          89,
          90,
          91,
          92,
          93,
          94,
          95,
          96,
          97,
          98,
          99,
          100,
          101,
          102,
          103,
          104,
          105,
          106,
          107,
          108,
          109,
          110,
          111,
          112,
          113,
          114,
          115,
          116,
          117,
          118,
          119,
          120,
          121,
          122,
          123,
          124,
          125,
          126,
          127,
          128,
          129,
          130,
          131,
          132,
          133,
          134,
          135,
          136,
          137,
          138,
          139,
          140,
          141,
          142,
          143,
          144,
          145,
          146,
          147,
          148,
          149,
          150,
          151,
          152,
          153,
          154,
          155,
          156,
          157,
          158,
          159,
          160,
          161,
          162,
          163,
          164,
          165,
          166,
          167,
          168,
          169,
          170,
          171,
          172,
          173,
          174,
          175,
          176,
          177,
          178,
          179,
          180,
          181,
          182,
          183,
          184,
          185,
          186,
          187,
          188,
          189,
          190,
          191,
          192,
          193,
          194,
          195,
          196,
          197,
          198,
          199,
          200,
          201,
          202,
          203,
          204,
          205,
          206,
          207,
          208,
          209,
          210,
          211,
          212,
          213,
          214,
          215,
          216,
          217,
          218,
          219,
          220,
          221,
          222,
          223,
          224,
          225,
          226,
          227,
          228,
          229,
          230,
          231,
          232,
          233,
          234,
          235,
          236,
          237,
          238,
          239,
          240,
          241,
          242,
          243,
          244,
          245,
          246,
          247,
          248,
          249,
          250,
          251,
          252,
          253,
          254,
          255,
          256,
          257,
          258,
          259,
          260,
          261,
          262,
          263,
          264,
          265,
          266,
          267,
          268,
          269,
          270,
          271,
          272,
          273,
          274,
          275,
          276,
          277,
          278,
          279,
          280,
          281,
          282,
          283,
          284,
          285,
          286,
          287,
          288,
          289,
          290,
          291,
          292,
          293,
          294,
          295,
          296,
          297,
          298,
          299,
          300,
          301,
          302,
          303,
          304,
          305,
          306,
          307,
          308,
          309,
          310,
          311,
          312,
          313,
          314,
          315,
          316,
          317,
          318,
          319,
          320,
          321,
          322,
          323,
          324,
          325,
          326,
          327,
          328,
          329,
          330,
          331,
          332,
          333,
          334,
          335,
          336,
          337,
          338,
          339,
          340,
          341,
          342,
          343,
          344,
          345,
          346,
          347,
          348,
          349,
          350,
          351,
          352,
          353,
          354,
          355,
          356,
          357,
          358,
          359,
          360,
          361,
          362,
          363,
          364,
          365,
          366,
          367,
          368,
          369,
          370,
          371,
          372,
          373,
          374,
          375,
          376,
          377,
          378,
          379,
          380,
          381,
          382,
          383,
          384,
          385,
          386,
          387,
          388,
          389,
          390,
          391,
          392,
          393,
          394,
          395,
          396,
          397,
          398,
          399,
          400,
          401,
          402,
          403,
          404,
          405,
          406,
          407,
          408,
          409,
          410,
          411,
          412,
          413,
          414,
          415,
          416,
          417,
          418,
          419,
          420,
          421,
          422,
          423,
          424,
          425,
          426,
          427,
          428,
          429,
          430,
          431,
          432,
          433,
          434,
          435,
          436,
          437,
          438,
          439,
          440,
          441,
          442,
          443,
          444,
          445,
          446,
          447,
          448,
          449,
          450,
          451,
          452,
          453,
          454,
          455,
          456,
          457
         ],
         "xaxis": "x",
         "y": [
          168.11379932000003,
          82.23519965000006,
          116.22490032000005,
          127.70480079000012,
          120.65890158000003,
          154.78889720999996,
          149.69589754999998,
          126.12270047999996,
          117.41669876000014,
          126.11890065999998,
          116.9002012599999,
          171.5669007700001,
          141.86319844,
          167.79489878999996,
          115.18020027999997,
          117.81960059000005,
          139.20070298000002,
          170.28390114,
          159.17470285000007,
          158.59569966000004,
          155.0748002100001,
          125.23220002999997,
          176.4361995899999,
          156.89410326000012,
          125.24900038000004,
          93.86899997999991,
          76.93210016999993,
          120.74380004999988,
          119.12259954999998,
          167.61919980999994,
          88.18580007,
          125.26050003999998,
          91.07990070999996,
          117.57250048999991,
          121.07749912999996,
          136.5597009799999,
          115.53570085999996,
          115.3986008299999,
          148.97049956999996,
          107.18050101999992,
          104.19980256999996,
          87.24959778,
          126.5021005,
          118.20639982999994,
          153.41749911999997,
          119.73489966999999,
          108.46519982,
          108.01749814,
          92.99170026000006,
          127.27349752,
          75.56760045000003,
          113.79569944999999,
          121.32939992999991,
          111.31929935,
          118.86579890999982,
          120.89249960999994,
          158.77939993999996,
          168.49440108000007,
          147.09019665999975,
          85.77549851999993,
          94.23570036000002,
          86.79679919999997,
          90.46990009,
          119.01700073000009,
          126.45980073000015,
          127.62500018999994,
          170.14950031999993,
          122.25569932999997,
          117.49489886999989,
          98.44850011999999,
          167.97310066000009,
          142.7582982500001,
          131.95160313999997,
          121.08540189999992,
          121.10159947999995,
          119.84490048999993,
          114.6003017699999,
          118.28020072999995,
          107.14340108,
          127.8286010299999,
          114.2649993399999,
          106.88050005999996,
          117.21190051999992,
          119.54539830999994,
          88.97300094,
          88.28559859999997,
          146.40150193000025,
          127.2789000800001,
          113.12920028999991,
          110.36299847999997,
          108.14589896000011,
          77.16189917999995,
          169.74440256999998,
          114.08259915,
          121.75199881000002,
          128.13650181999995,
          154.87199813999993,
          91.67959932000004,
          136.54900137999994,
          158.72240322000002,
          125.57260063999988,
          125.21840043000009,
          130.63380146999992,
          114.98810126999996,
          119.86390024,
          92.07039976999997,
          110.02599859,
          167.59199955999992,
          157.07469923999994,
          114.37589993000009,
          106.64830123999998,
          79.46819993999999,
          112.99170032999994,
          125.93940090999999,
          107.05799926999994,
          119.54710097999998,
          156.12180314000014,
          159.74909887,
          120.15449982000014,
          134.26110287000003,
          101.49259968000005,
          117.63299799000009,
          119.4045000700001,
          113.01340055999995,
          102.72679915000006,
          160.36529755000004,
          99.06610045000005,
          147.86029910000008,
          125.64680094,
          169.57309953000006,
          125.60489919000007,
          127.37799740000004,
          127.42120175000018,
          113.5942996499999,
          113.03170079000009,
          123.64489936999989,
          102.17869879000006,
          89.16859970999997,
          124.31369958000003,
          102.04829930000005,
          107.08099950999998,
          113.92810079000003,
          117.34330067000005,
          99.06749942999996,
          121.69930059,
          163.20239922000002,
          87.42259867999992,
          106.66929967999997,
          117.23980102000003,
          127.68250146999995,
          123.9763006500001,
          80.73399935000003,
          120.53760092999997,
          157.93059785999992,
          87.81759971000001,
          110.18329949000001,
          118.69219917000015,
          171.59719870000004,
          102.89869926000004,
          105.38940052999992,
          122.55290002000014,
          158.1524978699999,
          87.63979864000004,
          93.31580025000005,
          112.32290052999988,
          177.43160039999995,
          114.28670021999989,
          119.36439998000009,
          94.79350083999994,
          125.58230026999999,
          166.07450119000023,
          115.06540085999997,
          116.7489013300001,
          88.3070986,
          148.98880045999985,
          120.41409929999995,
          89.67989987999994,
          111.85880024000005,
          117.24620029999993,
          118.55230134999994,
          88.21489971999998,
          94.33529985999989,
          116.86799996999994,
          118.36270156999997,
          120.35540088999997,
          126.80959788000004,
          122.04649936000006,
          151.98350004999992,
          165.32020036000003,
          118.52299993999993,
          120.31740123000013,
          150.57840075,
          118.46489919999998,
          172.58809836000003,
          105.91099937000008,
          104.99940138000002,
          149.48690060999982,
          113.89930040999997,
          124.88170130000012,
          147.46589893000012,
          119.54100129999999,
          115.26310087999998,
          112.50620007000005,
          113.55230172999994,
          141.67010183999992,
          117.8907976399999,
          102.93340020000014,
          115.98500161999999,
          103.12680194999999,
          98.59760015999998,
          117.32270070999995,
          90.73699983000006,
          91.46280033000005,
          153.20739951,
          102.69389965000003,
          154.78700100999995,
          114.41520141000001,
          138.53030082,
          90.16059841999996,
          115.47049936999998,
          114.76939959000009,
          123.25840037000006,
          121.80140025,
          165.43250166000016,
          92.77379936999998,
          134.76210147999996,
          121.42599909999991,
          120.8380005799999,
          104.85500005000003,
          142.02240331999997,
          122.06839900999991,
          116.57800048999997,
          112.97630120999999,
          126.83249777000009,
          122.52219941999985,
          125.89719965999988,
          121.25830058999983,
          86.77549899,
          132.80310071000002,
          144.23570237000018,
          92.72259944000001,
          159.9955001400001,
          159.47950236000003,
          126.49109913000005,
          165.66429964000002,
          108.80759947999995,
          110.42230088000002,
          103.64559834000002,
          94.14010076999995,
          127.47290235999998,
          107.05730065000006,
          163.62080013000008,
          121.69890045,
          132.1126009099999,
          130.66010136999992,
          160.49329966999989,
          90.20969845999997,
          175.67920156999998,
          127.73620032999983,
          126.74579847000004,
          86.38759924999998,
          124.35559893,
          150.21779737000006,
          89.73500008999994,
          106.84669969999997,
          109.24679995000004,
          84.67419905999995,
          135.88239967000007,
          154.67500212000007,
          139.20160357000003,
          73.37920061999995,
          152.43610105000013,
          125.98779933999998,
          126.78120008000009,
          127.61859859999998,
          108.67669977999995,
          155.80560037999993,
          114.62860127999998,
          116.91640148000002,
          125.13339941000005,
          154.21640162999992,
          121.18519991999996,
          156.4047991900001,
          92.98460042000002,
          125.50920151000003,
          125.77630026999995,
          88.04500061999994,
          92.03839915999991,
          126.17989964999997,
          128.24190368999987,
          113.23440037999998,
          117.52229713000006,
          120.92620023999987,
          126.88409807000008,
          119.37990116000005,
          136.5632010099999,
          93.96289933999991,
          119.79920041999989,
          113.17790106999993,
          94.26809920999996,
          108.85309975000001,
          87.23029916999991,
          109.48129924999995,
          89.67069984,
          92.47930009000001,
          131.52020311,
          162.40330132999992,
          89.19350025999998,
          119.50960084000015,
          133.17010166000003,
          123.99100025000008,
          128.25690266000007,
          101.94589832000001,
          88.85709845,
          132.61940077999995,
          119.5963005200001,
          108.46929981999992,
          168.47900104000007,
          115.09990053000003,
          86.65499903999998,
          118.79540054999994,
          90.97749962999995,
          161.7827010300001,
          116.55530044999996,
          121.38990015999994,
          160.02469853999992,
          120.23319919000005,
          112.43859997999996,
          108.44029856000009,
          126.70890006000008,
          75.95550056000003,
          102.98819981000014,
          127.65910257,
          121.76779925999993,
          92.54330015999996,
          131.81600084999994,
          118.16660110999996,
          115.66069986999999,
          154.64030251000003,
          158.44030108999993,
          110.07259954000001,
          154.03159728000008,
          119.33340118,
          160.4362010099999,
          118.68750055999993,
          157.63639912999997,
          115.05369909999999,
          116.35670024000002,
          148.39809844000004,
          115.00260068999998,
          126.08989880000016,
          166.55749913000008,
          117.6676002500001,
          125.17409904000013,
          153.28280349999994,
          153.43200236000018,
          132.24020009,
          114.88760026999998,
          121.17440191999997,
          125.1409003600001,
          89.76140063000004,
          123.21309988999998,
          154.7222007999999,
          111.72140013999993,
          106.53160006,
          161.94150180000014,
          118.52519989999992,
          165.80649991,
          134.07740101000002,
          114.85499982000003,
          152.91589825000005,
          168.67690004,
          114.76380027,
          113.97270113999986,
          159.03289906999996,
          85.06319903000002,
          127.13400049000002,
          127.83640090000003,
          128.76339924999988,
          124.38750045999997,
          123.9735007200001,
          90.57820055000006,
          153.2464989999999,
          97.17249957000001,
          137.26830005999994,
          89.18929926999995,
          106.90790018999995,
          114.98480037000002,
          112.48650070000002,
          124.38239941000003,
          91.47389847999997,
          125.50160125999999,
          162.33259900999988,
          120.14159889000001,
          165.01640118000003,
          126.82469789000007,
          112.51049991999992,
          127.52349938999998,
          94.84369889999996,
          91.04350005,
          103.32829899000006,
          120.80169998999988,
          83.51699977000003,
          126.28199944000012,
          160.13690453000007,
          117.24010076999994,
          118.32379988000004,
          120.03460005999995,
          122.8549994999999,
          120.12830131999993,
          121.3901999599999,
          118.00370056000006,
          107.00610029000006,
          148.1255992799999,
          126.44129851000011,
          115.73380098,
          73.76190020000001,
          127.79960108999994,
          154.16360066999994,
          122.24059974999986,
          125.5653002799999,
          88.88420002999992,
          103.14949883999996,
          124.68010060000007,
          120.27800022999996,
          73.28990100000006,
          151.56179986000004,
          121.16220020999988,
          104.85670038000008,
          86.36179767000003,
          115.27379966999999,
          172.22169866000016,
          119.87000051,
          159.41659762999998,
          113.16319951999995,
          121.03840010999993,
          118.72930084999999,
          95.8201998300001,
          118.72600000999992,
          125.96070044000002,
          118.55479958999979,
          95.96920071000001,
          154.01310172000012,
          121.90839990999993,
          147.70820002,
          158.78600317999994,
          114.01620030999999,
          122.47719949999998,
          151.23889885000006,
          127.51000046999987,
          165.65960071000015,
          135.3363005499998,
          120.03639963999998,
          167.67179846,
          108.41649914999995,
          121.47919897999992,
          138.63490159999995,
          107.26999896000001
         ],
         "yaxis": "y"
        }
       ],
       "layout": {
        "legend": {
         "title": {
          "text": "variable"
         },
         "tracegroupgap": 0
        },
        "margin": {
         "t": 60
        },
        "template": {
         "data": {
          "bar": [
           {
            "error_x": {
             "color": "#2a3f5f"
            },
            "error_y": {
             "color": "#2a3f5f"
            },
            "marker": {
             "line": {
              "color": "#E5ECF6",
              "width": 0.5
             },
             "pattern": {
              "fillmode": "overlay",
              "size": 10,
              "solidity": 0.2
             }
            },
            "type": "bar"
           }
          ],
          "barpolar": [
           {
            "marker": {
             "line": {
              "color": "#E5ECF6",
              "width": 0.5
             },
             "pattern": {
              "fillmode": "overlay",
              "size": 10,
              "solidity": 0.2
             }
            },
            "type": "barpolar"
           }
          ],
          "carpet": [
           {
            "aaxis": {
             "endlinecolor": "#2a3f5f",
             "gridcolor": "white",
             "linecolor": "white",
             "minorgridcolor": "white",
             "startlinecolor": "#2a3f5f"
            },
            "baxis": {
             "endlinecolor": "#2a3f5f",
             "gridcolor": "white",
             "linecolor": "white",
             "minorgridcolor": "white",
             "startlinecolor": "#2a3f5f"
            },
            "type": "carpet"
           }
          ],
          "choropleth": [
           {
            "colorbar": {
             "outlinewidth": 0,
             "ticks": ""
            },
            "type": "choropleth"
           }
          ],
          "contour": [
           {
            "colorbar": {
             "outlinewidth": 0,
             "ticks": ""
            },
            "colorscale": [
             [
              0,
              "#0d0887"
             ],
             [
              0.1111111111111111,
              "#46039f"
             ],
             [
              0.2222222222222222,
              "#7201a8"
             ],
             [
              0.3333333333333333,
              "#9c179e"
             ],
             [
              0.4444444444444444,
              "#bd3786"
             ],
             [
              0.5555555555555556,
              "#d8576b"
             ],
             [
              0.6666666666666666,
              "#ed7953"
             ],
             [
              0.7777777777777778,
              "#fb9f3a"
             ],
             [
              0.8888888888888888,
              "#fdca26"
             ],
             [
              1,
              "#f0f921"
             ]
            ],
            "type": "contour"
           }
          ],
          "contourcarpet": [
           {
            "colorbar": {
             "outlinewidth": 0,
             "ticks": ""
            },
            "type": "contourcarpet"
           }
          ],
          "heatmap": [
           {
            "colorbar": {
             "outlinewidth": 0,
             "ticks": ""
            },
            "colorscale": [
             [
              0,
              "#0d0887"
             ],
             [
              0.1111111111111111,
              "#46039f"
             ],
             [
              0.2222222222222222,
              "#7201a8"
             ],
             [
              0.3333333333333333,
              "#9c179e"
             ],
             [
              0.4444444444444444,
              "#bd3786"
             ],
             [
              0.5555555555555556,
              "#d8576b"
             ],
             [
              0.6666666666666666,
              "#ed7953"
             ],
             [
              0.7777777777777778,
              "#fb9f3a"
             ],
             [
              0.8888888888888888,
              "#fdca26"
             ],
             [
              1,
              "#f0f921"
             ]
            ],
            "type": "heatmap"
           }
          ],
          "heatmapgl": [
           {
            "colorbar": {
             "outlinewidth": 0,
             "ticks": ""
            },
            "colorscale": [
             [
              0,
              "#0d0887"
             ],
             [
              0.1111111111111111,
              "#46039f"
             ],
             [
              0.2222222222222222,
              "#7201a8"
             ],
             [
              0.3333333333333333,
              "#9c179e"
             ],
             [
              0.4444444444444444,
              "#bd3786"
             ],
             [
              0.5555555555555556,
              "#d8576b"
             ],
             [
              0.6666666666666666,
              "#ed7953"
             ],
             [
              0.7777777777777778,
              "#fb9f3a"
             ],
             [
              0.8888888888888888,
              "#fdca26"
             ],
             [
              1,
              "#f0f921"
             ]
            ],
            "type": "heatmapgl"
           }
          ],
          "histogram": [
           {
            "marker": {
             "pattern": {
              "fillmode": "overlay",
              "size": 10,
              "solidity": 0.2
             }
            },
            "type": "histogram"
           }
          ],
          "histogram2d": [
           {
            "colorbar": {
             "outlinewidth": 0,
             "ticks": ""
            },
            "colorscale": [
             [
              0,
              "#0d0887"
             ],
             [
              0.1111111111111111,
              "#46039f"
             ],
             [
              0.2222222222222222,
              "#7201a8"
             ],
             [
              0.3333333333333333,
              "#9c179e"
             ],
             [
              0.4444444444444444,
              "#bd3786"
             ],
             [
              0.5555555555555556,
              "#d8576b"
             ],
             [
              0.6666666666666666,
              "#ed7953"
             ],
             [
              0.7777777777777778,
              "#fb9f3a"
             ],
             [
              0.8888888888888888,
              "#fdca26"
             ],
             [
              1,
              "#f0f921"
             ]
            ],
            "type": "histogram2d"
           }
          ],
          "histogram2dcontour": [
           {
            "colorbar": {
             "outlinewidth": 0,
             "ticks": ""
            },
            "colorscale": [
             [
              0,
              "#0d0887"
             ],
             [
              0.1111111111111111,
              "#46039f"
             ],
             [
              0.2222222222222222,
              "#7201a8"
             ],
             [
              0.3333333333333333,
              "#9c179e"
             ],
             [
              0.4444444444444444,
              "#bd3786"
             ],
             [
              0.5555555555555556,
              "#d8576b"
             ],
             [
              0.6666666666666666,
              "#ed7953"
             ],
             [
              0.7777777777777778,
              "#fb9f3a"
             ],
             [
              0.8888888888888888,
              "#fdca26"
             ],
             [
              1,
              "#f0f921"
             ]
            ],
            "type": "histogram2dcontour"
           }
          ],
          "mesh3d": [
           {
            "colorbar": {
             "outlinewidth": 0,
             "ticks": ""
            },
            "type": "mesh3d"
           }
          ],
          "parcoords": [
           {
            "line": {
             "colorbar": {
              "outlinewidth": 0,
              "ticks": ""
             }
            },
            "type": "parcoords"
           }
          ],
          "pie": [
           {
            "automargin": true,
            "type": "pie"
           }
          ],
          "scatter": [
           {
            "fillpattern": {
             "fillmode": "overlay",
             "size": 10,
             "solidity": 0.2
            },
            "type": "scatter"
           }
          ],
          "scatter3d": [
           {
            "line": {
             "colorbar": {
              "outlinewidth": 0,
              "ticks": ""
             }
            },
            "marker": {
             "colorbar": {
              "outlinewidth": 0,
              "ticks": ""
             }
            },
            "type": "scatter3d"
           }
          ],
          "scattercarpet": [
           {
            "marker": {
             "colorbar": {
              "outlinewidth": 0,
              "ticks": ""
             }
            },
            "type": "scattercarpet"
           }
          ],
          "scattergeo": [
           {
            "marker": {
             "colorbar": {
              "outlinewidth": 0,
              "ticks": ""
             }
            },
            "type": "scattergeo"
           }
          ],
          "scattergl": [
           {
            "marker": {
             "colorbar": {
              "outlinewidth": 0,
              "ticks": ""
             }
            },
            "type": "scattergl"
           }
          ],
          "scattermapbox": [
           {
            "marker": {
             "colorbar": {
              "outlinewidth": 0,
              "ticks": ""
             }
            },
            "type": "scattermapbox"
           }
          ],
          "scatterpolar": [
           {
            "marker": {
             "colorbar": {
              "outlinewidth": 0,
              "ticks": ""
             }
            },
            "type": "scatterpolar"
           }
          ],
          "scatterpolargl": [
           {
            "marker": {
             "colorbar": {
              "outlinewidth": 0,
              "ticks": ""
             }
            },
            "type": "scatterpolargl"
           }
          ],
          "scatterternary": [
           {
            "marker": {
             "colorbar": {
              "outlinewidth": 0,
              "ticks": ""
             }
            },
            "type": "scatterternary"
           }
          ],
          "surface": [
           {
            "colorbar": {
             "outlinewidth": 0,
             "ticks": ""
            },
            "colorscale": [
             [
              0,
              "#0d0887"
             ],
             [
              0.1111111111111111,
              "#46039f"
             ],
             [
              0.2222222222222222,
              "#7201a8"
             ],
             [
              0.3333333333333333,
              "#9c179e"
             ],
             [
              0.4444444444444444,
              "#bd3786"
             ],
             [
              0.5555555555555556,
              "#d8576b"
             ],
             [
              0.6666666666666666,
              "#ed7953"
             ],
             [
              0.7777777777777778,
              "#fb9f3a"
             ],
             [
              0.8888888888888888,
              "#fdca26"
             ],
             [
              1,
              "#f0f921"
             ]
            ],
            "type": "surface"
           }
          ],
          "table": [
           {
            "cells": {
             "fill": {
              "color": "#EBF0F8"
             },
             "line": {
              "color": "white"
             }
            },
            "header": {
             "fill": {
              "color": "#C8D4E3"
             },
             "line": {
              "color": "white"
             }
            },
            "type": "table"
           }
          ]
         },
         "layout": {
          "annotationdefaults": {
           "arrowcolor": "#2a3f5f",
           "arrowhead": 0,
           "arrowwidth": 1
          },
          "autotypenumbers": "strict",
          "coloraxis": {
           "colorbar": {
            "outlinewidth": 0,
            "ticks": ""
           }
          },
          "colorscale": {
           "diverging": [
            [
             0,
             "#8e0152"
            ],
            [
             0.1,
             "#c51b7d"
            ],
            [
             0.2,
             "#de77ae"
            ],
            [
             0.3,
             "#f1b6da"
            ],
            [
             0.4,
             "#fde0ef"
            ],
            [
             0.5,
             "#f7f7f7"
            ],
            [
             0.6,
             "#e6f5d0"
            ],
            [
             0.7,
             "#b8e186"
            ],
            [
             0.8,
             "#7fbc41"
            ],
            [
             0.9,
             "#4d9221"
            ],
            [
             1,
             "#276419"
            ]
           ],
           "sequential": [
            [
             0,
             "#0d0887"
            ],
            [
             0.1111111111111111,
             "#46039f"
            ],
            [
             0.2222222222222222,
             "#7201a8"
            ],
            [
             0.3333333333333333,
             "#9c179e"
            ],
            [
             0.4444444444444444,
             "#bd3786"
            ],
            [
             0.5555555555555556,
             "#d8576b"
            ],
            [
             0.6666666666666666,
             "#ed7953"
            ],
            [
             0.7777777777777778,
             "#fb9f3a"
            ],
            [
             0.8888888888888888,
             "#fdca26"
            ],
            [
             1,
             "#f0f921"
            ]
           ],
           "sequentialminus": [
            [
             0,
             "#0d0887"
            ],
            [
             0.1111111111111111,
             "#46039f"
            ],
            [
             0.2222222222222222,
             "#7201a8"
            ],
            [
             0.3333333333333333,
             "#9c179e"
            ],
            [
             0.4444444444444444,
             "#bd3786"
            ],
            [
             0.5555555555555556,
             "#d8576b"
            ],
            [
             0.6666666666666666,
             "#ed7953"
            ],
            [
             0.7777777777777778,
             "#fb9f3a"
            ],
            [
             0.8888888888888888,
             "#fdca26"
            ],
            [
             1,
             "#f0f921"
            ]
           ]
          },
          "colorway": [
           "#636efa",
           "#EF553B",
           "#00cc96",
           "#ab63fa",
           "#FFA15A",
           "#19d3f3",
           "#FF6692",
           "#B6E880",
           "#FF97FF",
           "#FECB52"
          ],
          "font": {
           "color": "#2a3f5f"
          },
          "geo": {
           "bgcolor": "white",
           "lakecolor": "white",
           "landcolor": "#E5ECF6",
           "showlakes": true,
           "showland": true,
           "subunitcolor": "white"
          },
          "hoverlabel": {
           "align": "left"
          },
          "hovermode": "closest",
          "mapbox": {
           "style": "light"
          },
          "paper_bgcolor": "white",
          "plot_bgcolor": "#E5ECF6",
          "polar": {
           "angularaxis": {
            "gridcolor": "white",
            "linecolor": "white",
            "ticks": ""
           },
           "bgcolor": "#E5ECF6",
           "radialaxis": {
            "gridcolor": "white",
            "linecolor": "white",
            "ticks": ""
           }
          },
          "scene": {
           "xaxis": {
            "backgroundcolor": "#E5ECF6",
            "gridcolor": "white",
            "gridwidth": 2,
            "linecolor": "white",
            "showbackground": true,
            "ticks": "",
            "zerolinecolor": "white"
           },
           "yaxis": {
            "backgroundcolor": "#E5ECF6",
            "gridcolor": "white",
            "gridwidth": 2,
            "linecolor": "white",
            "showbackground": true,
            "ticks": "",
            "zerolinecolor": "white"
           },
           "zaxis": {
            "backgroundcolor": "#E5ECF6",
            "gridcolor": "white",
            "gridwidth": 2,
            "linecolor": "white",
            "showbackground": true,
            "ticks": "",
            "zerolinecolor": "white"
           }
          },
          "shapedefaults": {
           "line": {
            "color": "#2a3f5f"
           }
          },
          "ternary": {
           "aaxis": {
            "gridcolor": "white",
            "linecolor": "white",
            "ticks": ""
           },
           "baxis": {
            "gridcolor": "white",
            "linecolor": "white",
            "ticks": ""
           },
           "bgcolor": "#E5ECF6",
           "caxis": {
            "gridcolor": "white",
            "linecolor": "white",
            "ticks": ""
           }
          },
          "title": {
           "x": 0.05
          },
          "xaxis": {
           "automargin": true,
           "gridcolor": "white",
           "linecolor": "white",
           "ticks": "",
           "title": {
            "standoff": 15
           },
           "zerolinecolor": "white",
           "zerolinewidth": 2
          },
          "yaxis": {
           "automargin": true,
           "gridcolor": "white",
           "linecolor": "white",
           "ticks": "",
           "title": {
            "standoff": 15
           },
           "zerolinecolor": "white",
           "zerolinewidth": 2
          }
         }
        },
        "title": {
         "text": "Comparison between Actual and Predicted"
        },
        "xaxis": {
         "anchor": "y",
         "domain": [
          0,
          1
         ],
         "title": {
          "text": "Number_of_Values"
         }
        },
        "yaxis": {
         "anchor": "x",
         "domain": [
          0,
          1
         ],
         "title": {
          "text": "Gold Price"
         }
        }
       }
      },
      "text/html": [
       "<div>                            <div id=\"efa6c475-a4b8-4722-808f-9da9b19cbe31\" class=\"plotly-graph-div\" style=\"height:525px; width:100%;\"></div>            <script type=\"text/javascript\">                require([\"plotly\"], function(Plotly) {                    window.PLOTLYENV=window.PLOTLYENV || {};                                    if (document.getElementById(\"efa6c475-a4b8-4722-808f-9da9b19cbe31\")) {                    Plotly.newPlot(                        \"efa6c475-a4b8-4722-808f-9da9b19cbe31\",                        [{\"hovertemplate\":\"variable=Actual<br>Number_of_Values=%{x}<br>value=%{y}<extra></extra>\",\"legendgroup\":\"Actual\",\"line\":{\"color\":\"#636efa\",\"dash\":\"solid\"},\"marker\":{\"symbol\":\"circle\"},\"mode\":\"lines\",\"name\":\"Actual\",\"orientation\":\"v\",\"showlegend\":true,\"x\":[0,1,2,3,4,5,6,7,8,9,10,11,12,13,14,15,16,17,18,19,20,21,22,23,24,25,26,27,28,29,30,31,32,33,34,35,36,37,38,39,40,41,42,43,44,45,46,47,48,49,50,51,52,53,54,55,56,57,58,59,60,61,62,63,64,65,66,67,68,69,70,71,72,73,74,75,76,77,78,79,80,81,82,83,84,85,86,87,88,89,90,91,92,93,94,95,96,97,98,99,100,101,102,103,104,105,106,107,108,109,110,111,112,113,114,115,116,117,118,119,120,121,122,123,124,125,126,127,128,129,130,131,132,133,134,135,136,137,138,139,140,141,142,143,144,145,146,147,148,149,150,151,152,153,154,155,156,157,158,159,160,161,162,163,164,165,166,167,168,169,170,171,172,173,174,175,176,177,178,179,180,181,182,183,184,185,186,187,188,189,190,191,192,193,194,195,196,197,198,199,200,201,202,203,204,205,206,207,208,209,210,211,212,213,214,215,216,217,218,219,220,221,222,223,224,225,226,227,228,229,230,231,232,233,234,235,236,237,238,239,240,241,242,243,244,245,246,247,248,249,250,251,252,253,254,255,256,257,258,259,260,261,262,263,264,265,266,267,268,269,270,271,272,273,274,275,276,277,278,279,280,281,282,283,284,285,286,287,288,289,290,291,292,293,294,295,296,297,298,299,300,301,302,303,304,305,306,307,308,309,310,311,312,313,314,315,316,317,318,319,320,321,322,323,324,325,326,327,328,329,330,331,332,333,334,335,336,337,338,339,340,341,342,343,344,345,346,347,348,349,350,351,352,353,354,355,356,357,358,359,360,361,362,363,364,365,366,367,368,369,370,371,372,373,374,375,376,377,378,379,380,381,382,383,384,385,386,387,388,389,390,391,392,393,394,395,396,397,398,399,400,401,402,403,404,405,406,407,408,409,410,411,412,413,414,415,416,417,418,419,420,421,422,423,424,425,426,427,428,429,430,431,432,433,434,435,436,437,438,439,440,441,442,443,444,445,446,447,448,449,450,451,452,453,454,455,456,457],\"xaxis\":\"x\",\"y\":[168.020004,81.230003,112.32,127.589996,119.620003,154.210007,148.910004,126.190002,117.470001,125.739998,115.379997,167.119995,141.630005,169.559998,115.599998,119.669998,132.949997,170.399994,159.369995,173.529999,154.720001,128.119995,177.720001,157.190002,125.309998,93.400002,76.790001,119.690002,118.989998,167.389999,87.5,124.980003,91.230003,115.489998,120.949997,133.809998,116.690002,113.809998,133.580002,105.970001,105.120003,87.959999,126.82,116.860001,159.259995,119.459999,109.160004,108.620003,93.269997,127.160004,72.260002,113.470001,119.68,109.139999,119.309998,120.050003,159.889999,161.490005,146.740005,85.809998,93.709999,85.550003,91.029999,118.489998,126.449997,126.980003,171.699997,122.400002,116.410004,97.959999,169.630005,142.639999,131.809998,121.360001,124.0,119.699997,113.889999,118.919998,105.639999,127.669998,114.32,107.309998,114.82,119.230003,86.860001,87.010002,147.729996,128.199997,113.260002,110.82,107.360001,74.220001,172.940002,114.099998,121.650002,129.110001,156.770004,91.660004,133.479996,161.029999,128.470001,125.75,132.289993,114.019997,118.230003,93.709999,111.150002,164.289993,157.770004,115.510002,107.129997,83.309998,115.150002,125.540001,106.080002,120.580002,157.139999,161.059998,120.309998,133.070007,103.949997,116.360001,119.309998,112.370003,102.839996,161.199997,97.050003,147.830002,125.32,171.139999,123.540001,127.07,127.959999,114.830002,111.540001,122.849998,100.5,90.040001,123.989998,98.900002,106.169998,110.82,120.389999,98.849998,122.449997,162.300003,86.650002,106.150002,116.43,127.959999,122.830002,80.760002,119.529999,159.729996,88.470001,110.160004,115.940002,170.75,102.339996,105.019997,122.730003,160.330002,86.949997,93.190002,111.43,172.360001,114.120003,120.129997,93.699997,126.089996,167.619995,116.330002,117.120003,87.25,149.199997,118.690002,89.419998,113.650002,115.519997,118.669998,86.989998,93.830002,116.550003,118.300003,121.800003,127.660004,122.699997,137.710007,163.630005,118.43,120.870003,152.619995,117.959999,160.639999,99.910004,104.269997,149.820007,110.449997,125.440002,145.649994,120.220001,115.68,113.029999,112.150002,134.050003,118.059998,102.610001,116.339996,104.68,98.830002,116.089996,91.089996,92.080002,154.669998,102.43,154.770004,113.68,138.089996,91.330002,116.330002,115.669998,122.5438,122.290001,166.020004,92.739998,137.240005,121.309998,119.550003,104.669998,135.050003,122.919998,115.620003,113.150002,124.269997,123.349998,125.779999,121.559998,85.82,132.449997,154.869995,92.059998,148.970001,161.880005,127.199997,167.350006,108.559998,110.440002,104.209999,95.769997,129.470001,108.349998,149.119995,121.730003,131.699997,131.960007,160.990005,90.57,173.889999,128.089996,127.550003,86.779999,123.940002,150.419998,89.269997,108.050003,111.019997,89.18,138.369995,156.220001,134.660004,73.580002,152.970001,126.559998,126.139999,127.75,108.360001,157.460007,114.0,116.989998,126.860001,155.240005,120.650002,156.990005,92.790001,125.389999,124.889999,88.25,91.93,126.339996,128.839996,112.889999,117.360001,119.739998,128.179993,121.480003,134.199997,93.900002,118.900002,112.300003,94.779999,108.699997,86.709999,110.260002,88.639999,93.239998,131.320007,163.089996,90.120003,119.82,133.940002,125.839996,127.739998,101.459999,89.18,132.199997,122.150002,110.529999,172.070007,115.279999,85.389999,121.959999,90.760002,161.300003,116.519997,120.400002,160.490005,121.489998,114.949997,109.980003,126.529999,73.449997,102.040001,130.229996,121.099998,91.169998,132.089996,117.970001,116.110001,156.25,161.600006,110.209999,135.410004,119.040001,162.020004,118.080002,159.699997,114.43,117.980003,147.770004,115.330002,126.230003,165.589996,116.790001,125.029999,153.229996,153.470001,132.809998,115.029999,120.959999,126.470001,93.089996,122.519997,151.410004,111.669998,106.949997,162.619995,120.050003,165.160004,131.570007,116.169998,152.990005,169.429993,110.57,115.379997,161.199997,85.43,128.110001,127.269997,129.210007,125.610001,124.230003,91.099998,151.619995,96.089996,136.179993,90.25,106.93,115.470001,111.540001,126.309998,90.919998,125.410004,163.350006,117.959999,166.070007,127.790001,111.5,127.580002,96.910004,89.980003,99.339996,120.419998,82.199997,125.370003,159.429993,117.099998,120.730003,118.650002,120.620003,119.480003,121.18,118.809998,107.559998,146.380005,122.830002,115.43,71.709999,128.070007,157.199997,120.860001,126.239998,89.010002,102.550003,124.32,119.910004,72.150002,150.75,120.029999,104.099998,86.230003,113.580002,172.100006,121.480003,161.539993,112.769997,122.419998,120.940002,95.989998,120.760002,125.32,118.080002,97.730003,154.649994,120.589996,143.470001,160.589996,111.629997,122.120003,146.240005,127.959999,164.119995,133.429993,122.379997,166.380005,106.379997,122.239998,133.830002,102.360001],\"yaxis\":\"y\",\"type\":\"scatter\"},{\"hovertemplate\":\"variable=Predicted<br>Number_of_Values=%{x}<br>value=%{y}<extra></extra>\",\"legendgroup\":\"Predicted\",\"line\":{\"color\":\"#EF553B\",\"dash\":\"solid\"},\"marker\":{\"symbol\":\"circle\"},\"mode\":\"lines\",\"name\":\"Predicted\",\"orientation\":\"v\",\"showlegend\":true,\"x\":[0,1,2,3,4,5,6,7,8,9,10,11,12,13,14,15,16,17,18,19,20,21,22,23,24,25,26,27,28,29,30,31,32,33,34,35,36,37,38,39,40,41,42,43,44,45,46,47,48,49,50,51,52,53,54,55,56,57,58,59,60,61,62,63,64,65,66,67,68,69,70,71,72,73,74,75,76,77,78,79,80,81,82,83,84,85,86,87,88,89,90,91,92,93,94,95,96,97,98,99,100,101,102,103,104,105,106,107,108,109,110,111,112,113,114,115,116,117,118,119,120,121,122,123,124,125,126,127,128,129,130,131,132,133,134,135,136,137,138,139,140,141,142,143,144,145,146,147,148,149,150,151,152,153,154,155,156,157,158,159,160,161,162,163,164,165,166,167,168,169,170,171,172,173,174,175,176,177,178,179,180,181,182,183,184,185,186,187,188,189,190,191,192,193,194,195,196,197,198,199,200,201,202,203,204,205,206,207,208,209,210,211,212,213,214,215,216,217,218,219,220,221,222,223,224,225,226,227,228,229,230,231,232,233,234,235,236,237,238,239,240,241,242,243,244,245,246,247,248,249,250,251,252,253,254,255,256,257,258,259,260,261,262,263,264,265,266,267,268,269,270,271,272,273,274,275,276,277,278,279,280,281,282,283,284,285,286,287,288,289,290,291,292,293,294,295,296,297,298,299,300,301,302,303,304,305,306,307,308,309,310,311,312,313,314,315,316,317,318,319,320,321,322,323,324,325,326,327,328,329,330,331,332,333,334,335,336,337,338,339,340,341,342,343,344,345,346,347,348,349,350,351,352,353,354,355,356,357,358,359,360,361,362,363,364,365,366,367,368,369,370,371,372,373,374,375,376,377,378,379,380,381,382,383,384,385,386,387,388,389,390,391,392,393,394,395,396,397,398,399,400,401,402,403,404,405,406,407,408,409,410,411,412,413,414,415,416,417,418,419,420,421,422,423,424,425,426,427,428,429,430,431,432,433,434,435,436,437,438,439,440,441,442,443,444,445,446,447,448,449,450,451,452,453,454,455,456,457],\"xaxis\":\"x\",\"y\":[168.11379932000003,82.23519965000006,116.22490032000005,127.70480079000012,120.65890158000003,154.78889720999996,149.69589754999998,126.12270047999996,117.41669876000014,126.11890065999998,116.9002012599999,171.5669007700001,141.86319844,167.79489878999996,115.18020027999997,117.81960059000005,139.20070298000002,170.28390114,159.17470285000007,158.59569966000004,155.0748002100001,125.23220002999997,176.4361995899999,156.89410326000012,125.24900038000004,93.86899997999991,76.93210016999993,120.74380004999988,119.12259954999998,167.61919980999994,88.18580007,125.26050003999998,91.07990070999996,117.57250048999991,121.07749912999996,136.5597009799999,115.53570085999996,115.3986008299999,148.97049956999996,107.18050101999992,104.19980256999996,87.24959778,126.5021005,118.20639982999994,153.41749911999997,119.73489966999999,108.46519982,108.01749814,92.99170026000006,127.27349752,75.56760045000003,113.79569944999999,121.32939992999991,111.31929935,118.86579890999982,120.89249960999994,158.77939993999996,168.49440108000007,147.09019665999975,85.77549851999993,94.23570036000002,86.79679919999997,90.46990009,119.01700073000009,126.45980073000015,127.62500018999994,170.14950031999993,122.25569932999997,117.49489886999989,98.44850011999999,167.97310066000009,142.7582982500001,131.95160313999997,121.08540189999992,121.10159947999995,119.84490048999993,114.6003017699999,118.28020072999995,107.14340108,127.8286010299999,114.2649993399999,106.88050005999996,117.21190051999992,119.54539830999994,88.97300094,88.28559859999997,146.40150193000025,127.2789000800001,113.12920028999991,110.36299847999997,108.14589896000011,77.16189917999995,169.74440256999998,114.08259915,121.75199881000002,128.13650181999995,154.87199813999993,91.67959932000004,136.54900137999994,158.72240322000002,125.57260063999988,125.21840043000009,130.63380146999992,114.98810126999996,119.86390024,92.07039976999997,110.02599859,167.59199955999992,157.07469923999994,114.37589993000009,106.64830123999998,79.46819993999999,112.99170032999994,125.93940090999999,107.05799926999994,119.54710097999998,156.12180314000014,159.74909887,120.15449982000014,134.26110287000003,101.49259968000005,117.63299799000009,119.4045000700001,113.01340055999995,102.72679915000006,160.36529755000004,99.06610045000005,147.86029910000008,125.64680094,169.57309953000006,125.60489919000007,127.37799740000004,127.42120175000018,113.5942996499999,113.03170079000009,123.64489936999989,102.17869879000006,89.16859970999997,124.31369958000003,102.04829930000005,107.08099950999998,113.92810079000003,117.34330067000005,99.06749942999996,121.69930059,163.20239922000002,87.42259867999992,106.66929967999997,117.23980102000003,127.68250146999995,123.9763006500001,80.73399935000003,120.53760092999997,157.93059785999992,87.81759971000001,110.18329949000001,118.69219917000015,171.59719870000004,102.89869926000004,105.38940052999992,122.55290002000014,158.1524978699999,87.63979864000004,93.31580025000005,112.32290052999988,177.43160039999995,114.28670021999989,119.36439998000009,94.79350083999994,125.58230026999999,166.07450119000023,115.06540085999997,116.7489013300001,88.3070986,148.98880045999985,120.41409929999995,89.67989987999994,111.85880024000005,117.24620029999993,118.55230134999994,88.21489971999998,94.33529985999989,116.86799996999994,118.36270156999997,120.35540088999997,126.80959788000004,122.04649936000006,151.98350004999992,165.32020036000003,118.52299993999993,120.31740123000013,150.57840075,118.46489919999998,172.58809836000003,105.91099937000008,104.99940138000002,149.48690060999982,113.89930040999997,124.88170130000012,147.46589893000012,119.54100129999999,115.26310087999998,112.50620007000005,113.55230172999994,141.67010183999992,117.8907976399999,102.93340020000014,115.98500161999999,103.12680194999999,98.59760015999998,117.32270070999995,90.73699983000006,91.46280033000005,153.20739951,102.69389965000003,154.78700100999995,114.41520141000001,138.53030082,90.16059841999996,115.47049936999998,114.76939959000009,123.25840037000006,121.80140025,165.43250166000016,92.77379936999998,134.76210147999996,121.42599909999991,120.8380005799999,104.85500005000003,142.02240331999997,122.06839900999991,116.57800048999997,112.97630120999999,126.83249777000009,122.52219941999985,125.89719965999988,121.25830058999983,86.77549899,132.80310071000002,144.23570237000018,92.72259944000001,159.9955001400001,159.47950236000003,126.49109913000005,165.66429964000002,108.80759947999995,110.42230088000002,103.64559834000002,94.14010076999995,127.47290235999998,107.05730065000006,163.62080013000008,121.69890045,132.1126009099999,130.66010136999992,160.49329966999989,90.20969845999997,175.67920156999998,127.73620032999983,126.74579847000004,86.38759924999998,124.35559893,150.21779737000006,89.73500008999994,106.84669969999997,109.24679995000004,84.67419905999995,135.88239967000007,154.67500212000007,139.20160357000003,73.37920061999995,152.43610105000013,125.98779933999998,126.78120008000009,127.61859859999998,108.67669977999995,155.80560037999993,114.62860127999998,116.91640148000002,125.13339941000005,154.21640162999992,121.18519991999996,156.4047991900001,92.98460042000002,125.50920151000003,125.77630026999995,88.04500061999994,92.03839915999991,126.17989964999997,128.24190368999987,113.23440037999998,117.52229713000006,120.92620023999987,126.88409807000008,119.37990116000005,136.5632010099999,93.96289933999991,119.79920041999989,113.17790106999993,94.26809920999996,108.85309975000001,87.23029916999991,109.48129924999995,89.67069984,92.47930009000001,131.52020311,162.40330132999992,89.19350025999998,119.50960084000015,133.17010166000003,123.99100025000008,128.25690266000007,101.94589832000001,88.85709845,132.61940077999995,119.5963005200001,108.46929981999992,168.47900104000007,115.09990053000003,86.65499903999998,118.79540054999994,90.97749962999995,161.7827010300001,116.55530044999996,121.38990015999994,160.02469853999992,120.23319919000005,112.43859997999996,108.44029856000009,126.70890006000008,75.95550056000003,102.98819981000014,127.65910257,121.76779925999993,92.54330015999996,131.81600084999994,118.16660110999996,115.66069986999999,154.64030251000003,158.44030108999993,110.07259954000001,154.03159728000008,119.33340118,160.4362010099999,118.68750055999993,157.63639912999997,115.05369909999999,116.35670024000002,148.39809844000004,115.00260068999998,126.08989880000016,166.55749913000008,117.6676002500001,125.17409904000013,153.28280349999994,153.43200236000018,132.24020009,114.88760026999998,121.17440191999997,125.1409003600001,89.76140063000004,123.21309988999998,154.7222007999999,111.72140013999993,106.53160006,161.94150180000014,118.52519989999992,165.80649991,134.07740101000002,114.85499982000003,152.91589825000005,168.67690004,114.76380027,113.97270113999986,159.03289906999996,85.06319903000002,127.13400049000002,127.83640090000003,128.76339924999988,124.38750045999997,123.9735007200001,90.57820055000006,153.2464989999999,97.17249957000001,137.26830005999994,89.18929926999995,106.90790018999995,114.98480037000002,112.48650070000002,124.38239941000003,91.47389847999997,125.50160125999999,162.33259900999988,120.14159889000001,165.01640118000003,126.82469789000007,112.51049991999992,127.52349938999998,94.84369889999996,91.04350005,103.32829899000006,120.80169998999988,83.51699977000003,126.28199944000012,160.13690453000007,117.24010076999994,118.32379988000004,120.03460005999995,122.8549994999999,120.12830131999993,121.3901999599999,118.00370056000006,107.00610029000006,148.1255992799999,126.44129851000011,115.73380098,73.76190020000001,127.79960108999994,154.16360066999994,122.24059974999986,125.5653002799999,88.88420002999992,103.14949883999996,124.68010060000007,120.27800022999996,73.28990100000006,151.56179986000004,121.16220020999988,104.85670038000008,86.36179767000003,115.27379966999999,172.22169866000016,119.87000051,159.41659762999998,113.16319951999995,121.03840010999993,118.72930084999999,95.8201998300001,118.72600000999992,125.96070044000002,118.55479958999979,95.96920071000001,154.01310172000012,121.90839990999993,147.70820002,158.78600317999994,114.01620030999999,122.47719949999998,151.23889885000006,127.51000046999987,165.65960071000015,135.3363005499998,120.03639963999998,167.67179846,108.41649914999995,121.47919897999992,138.63490159999995,107.26999896000001],\"yaxis\":\"y\",\"type\":\"scatter\"}],                        {\"legend\":{\"title\":{\"text\":\"variable\"},\"tracegroupgap\":0},\"margin\":{\"t\":60},\"template\":{\"data\":{\"barpolar\":[{\"marker\":{\"line\":{\"color\":\"#E5ECF6\",\"width\":0.5},\"pattern\":{\"fillmode\":\"overlay\",\"size\":10,\"solidity\":0.2}},\"type\":\"barpolar\"}],\"bar\":[{\"error_x\":{\"color\":\"#2a3f5f\"},\"error_y\":{\"color\":\"#2a3f5f\"},\"marker\":{\"line\":{\"color\":\"#E5ECF6\",\"width\":0.5},\"pattern\":{\"fillmode\":\"overlay\",\"size\":10,\"solidity\":0.2}},\"type\":\"bar\"}],\"carpet\":[{\"aaxis\":{\"endlinecolor\":\"#2a3f5f\",\"gridcolor\":\"white\",\"linecolor\":\"white\",\"minorgridcolor\":\"white\",\"startlinecolor\":\"#2a3f5f\"},\"baxis\":{\"endlinecolor\":\"#2a3f5f\",\"gridcolor\":\"white\",\"linecolor\":\"white\",\"minorgridcolor\":\"white\",\"startlinecolor\":\"#2a3f5f\"},\"type\":\"carpet\"}],\"choropleth\":[{\"colorbar\":{\"outlinewidth\":0,\"ticks\":\"\"},\"type\":\"choropleth\"}],\"contourcarpet\":[{\"colorbar\":{\"outlinewidth\":0,\"ticks\":\"\"},\"type\":\"contourcarpet\"}],\"contour\":[{\"colorbar\":{\"outlinewidth\":0,\"ticks\":\"\"},\"colorscale\":[[0.0,\"#0d0887\"],[0.1111111111111111,\"#46039f\"],[0.2222222222222222,\"#7201a8\"],[0.3333333333333333,\"#9c179e\"],[0.4444444444444444,\"#bd3786\"],[0.5555555555555556,\"#d8576b\"],[0.6666666666666666,\"#ed7953\"],[0.7777777777777778,\"#fb9f3a\"],[0.8888888888888888,\"#fdca26\"],[1.0,\"#f0f921\"]],\"type\":\"contour\"}],\"heatmapgl\":[{\"colorbar\":{\"outlinewidth\":0,\"ticks\":\"\"},\"colorscale\":[[0.0,\"#0d0887\"],[0.1111111111111111,\"#46039f\"],[0.2222222222222222,\"#7201a8\"],[0.3333333333333333,\"#9c179e\"],[0.4444444444444444,\"#bd3786\"],[0.5555555555555556,\"#d8576b\"],[0.6666666666666666,\"#ed7953\"],[0.7777777777777778,\"#fb9f3a\"],[0.8888888888888888,\"#fdca26\"],[1.0,\"#f0f921\"]],\"type\":\"heatmapgl\"}],\"heatmap\":[{\"colorbar\":{\"outlinewidth\":0,\"ticks\":\"\"},\"colorscale\":[[0.0,\"#0d0887\"],[0.1111111111111111,\"#46039f\"],[0.2222222222222222,\"#7201a8\"],[0.3333333333333333,\"#9c179e\"],[0.4444444444444444,\"#bd3786\"],[0.5555555555555556,\"#d8576b\"],[0.6666666666666666,\"#ed7953\"],[0.7777777777777778,\"#fb9f3a\"],[0.8888888888888888,\"#fdca26\"],[1.0,\"#f0f921\"]],\"type\":\"heatmap\"}],\"histogram2dcontour\":[{\"colorbar\":{\"outlinewidth\":0,\"ticks\":\"\"},\"colorscale\":[[0.0,\"#0d0887\"],[0.1111111111111111,\"#46039f\"],[0.2222222222222222,\"#7201a8\"],[0.3333333333333333,\"#9c179e\"],[0.4444444444444444,\"#bd3786\"],[0.5555555555555556,\"#d8576b\"],[0.6666666666666666,\"#ed7953\"],[0.7777777777777778,\"#fb9f3a\"],[0.8888888888888888,\"#fdca26\"],[1.0,\"#f0f921\"]],\"type\":\"histogram2dcontour\"}],\"histogram2d\":[{\"colorbar\":{\"outlinewidth\":0,\"ticks\":\"\"},\"colorscale\":[[0.0,\"#0d0887\"],[0.1111111111111111,\"#46039f\"],[0.2222222222222222,\"#7201a8\"],[0.3333333333333333,\"#9c179e\"],[0.4444444444444444,\"#bd3786\"],[0.5555555555555556,\"#d8576b\"],[0.6666666666666666,\"#ed7953\"],[0.7777777777777778,\"#fb9f3a\"],[0.8888888888888888,\"#fdca26\"],[1.0,\"#f0f921\"]],\"type\":\"histogram2d\"}],\"histogram\":[{\"marker\":{\"pattern\":{\"fillmode\":\"overlay\",\"size\":10,\"solidity\":0.2}},\"type\":\"histogram\"}],\"mesh3d\":[{\"colorbar\":{\"outlinewidth\":0,\"ticks\":\"\"},\"type\":\"mesh3d\"}],\"parcoords\":[{\"line\":{\"colorbar\":{\"outlinewidth\":0,\"ticks\":\"\"}},\"type\":\"parcoords\"}],\"pie\":[{\"automargin\":true,\"type\":\"pie\"}],\"scatter3d\":[{\"line\":{\"colorbar\":{\"outlinewidth\":0,\"ticks\":\"\"}},\"marker\":{\"colorbar\":{\"outlinewidth\":0,\"ticks\":\"\"}},\"type\":\"scatter3d\"}],\"scattercarpet\":[{\"marker\":{\"colorbar\":{\"outlinewidth\":0,\"ticks\":\"\"}},\"type\":\"scattercarpet\"}],\"scattergeo\":[{\"marker\":{\"colorbar\":{\"outlinewidth\":0,\"ticks\":\"\"}},\"type\":\"scattergeo\"}],\"scattergl\":[{\"marker\":{\"colorbar\":{\"outlinewidth\":0,\"ticks\":\"\"}},\"type\":\"scattergl\"}],\"scattermapbox\":[{\"marker\":{\"colorbar\":{\"outlinewidth\":0,\"ticks\":\"\"}},\"type\":\"scattermapbox\"}],\"scatterpolargl\":[{\"marker\":{\"colorbar\":{\"outlinewidth\":0,\"ticks\":\"\"}},\"type\":\"scatterpolargl\"}],\"scatterpolar\":[{\"marker\":{\"colorbar\":{\"outlinewidth\":0,\"ticks\":\"\"}},\"type\":\"scatterpolar\"}],\"scatter\":[{\"fillpattern\":{\"fillmode\":\"overlay\",\"size\":10,\"solidity\":0.2},\"type\":\"scatter\"}],\"scatterternary\":[{\"marker\":{\"colorbar\":{\"outlinewidth\":0,\"ticks\":\"\"}},\"type\":\"scatterternary\"}],\"surface\":[{\"colorbar\":{\"outlinewidth\":0,\"ticks\":\"\"},\"colorscale\":[[0.0,\"#0d0887\"],[0.1111111111111111,\"#46039f\"],[0.2222222222222222,\"#7201a8\"],[0.3333333333333333,\"#9c179e\"],[0.4444444444444444,\"#bd3786\"],[0.5555555555555556,\"#d8576b\"],[0.6666666666666666,\"#ed7953\"],[0.7777777777777778,\"#fb9f3a\"],[0.8888888888888888,\"#fdca26\"],[1.0,\"#f0f921\"]],\"type\":\"surface\"}],\"table\":[{\"cells\":{\"fill\":{\"color\":\"#EBF0F8\"},\"line\":{\"color\":\"white\"}},\"header\":{\"fill\":{\"color\":\"#C8D4E3\"},\"line\":{\"color\":\"white\"}},\"type\":\"table\"}]},\"layout\":{\"annotationdefaults\":{\"arrowcolor\":\"#2a3f5f\",\"arrowhead\":0,\"arrowwidth\":1},\"autotypenumbers\":\"strict\",\"coloraxis\":{\"colorbar\":{\"outlinewidth\":0,\"ticks\":\"\"}},\"colorscale\":{\"diverging\":[[0,\"#8e0152\"],[0.1,\"#c51b7d\"],[0.2,\"#de77ae\"],[0.3,\"#f1b6da\"],[0.4,\"#fde0ef\"],[0.5,\"#f7f7f7\"],[0.6,\"#e6f5d0\"],[0.7,\"#b8e186\"],[0.8,\"#7fbc41\"],[0.9,\"#4d9221\"],[1,\"#276419\"]],\"sequential\":[[0.0,\"#0d0887\"],[0.1111111111111111,\"#46039f\"],[0.2222222222222222,\"#7201a8\"],[0.3333333333333333,\"#9c179e\"],[0.4444444444444444,\"#bd3786\"],[0.5555555555555556,\"#d8576b\"],[0.6666666666666666,\"#ed7953\"],[0.7777777777777778,\"#fb9f3a\"],[0.8888888888888888,\"#fdca26\"],[1.0,\"#f0f921\"]],\"sequentialminus\":[[0.0,\"#0d0887\"],[0.1111111111111111,\"#46039f\"],[0.2222222222222222,\"#7201a8\"],[0.3333333333333333,\"#9c179e\"],[0.4444444444444444,\"#bd3786\"],[0.5555555555555556,\"#d8576b\"],[0.6666666666666666,\"#ed7953\"],[0.7777777777777778,\"#fb9f3a\"],[0.8888888888888888,\"#fdca26\"],[1.0,\"#f0f921\"]]},\"colorway\":[\"#636efa\",\"#EF553B\",\"#00cc96\",\"#ab63fa\",\"#FFA15A\",\"#19d3f3\",\"#FF6692\",\"#B6E880\",\"#FF97FF\",\"#FECB52\"],\"font\":{\"color\":\"#2a3f5f\"},\"geo\":{\"bgcolor\":\"white\",\"lakecolor\":\"white\",\"landcolor\":\"#E5ECF6\",\"showlakes\":true,\"showland\":true,\"subunitcolor\":\"white\"},\"hoverlabel\":{\"align\":\"left\"},\"hovermode\":\"closest\",\"mapbox\":{\"style\":\"light\"},\"paper_bgcolor\":\"white\",\"plot_bgcolor\":\"#E5ECF6\",\"polar\":{\"angularaxis\":{\"gridcolor\":\"white\",\"linecolor\":\"white\",\"ticks\":\"\"},\"bgcolor\":\"#E5ECF6\",\"radialaxis\":{\"gridcolor\":\"white\",\"linecolor\":\"white\",\"ticks\":\"\"}},\"scene\":{\"xaxis\":{\"backgroundcolor\":\"#E5ECF6\",\"gridcolor\":\"white\",\"gridwidth\":2,\"linecolor\":\"white\",\"showbackground\":true,\"ticks\":\"\",\"zerolinecolor\":\"white\"},\"yaxis\":{\"backgroundcolor\":\"#E5ECF6\",\"gridcolor\":\"white\",\"gridwidth\":2,\"linecolor\":\"white\",\"showbackground\":true,\"ticks\":\"\",\"zerolinecolor\":\"white\"},\"zaxis\":{\"backgroundcolor\":\"#E5ECF6\",\"gridcolor\":\"white\",\"gridwidth\":2,\"linecolor\":\"white\",\"showbackground\":true,\"ticks\":\"\",\"zerolinecolor\":\"white\"}},\"shapedefaults\":{\"line\":{\"color\":\"#2a3f5f\"}},\"ternary\":{\"aaxis\":{\"gridcolor\":\"white\",\"linecolor\":\"white\",\"ticks\":\"\"},\"baxis\":{\"gridcolor\":\"white\",\"linecolor\":\"white\",\"ticks\":\"\"},\"bgcolor\":\"#E5ECF6\",\"caxis\":{\"gridcolor\":\"white\",\"linecolor\":\"white\",\"ticks\":\"\"}},\"title\":{\"x\":0.05},\"xaxis\":{\"automargin\":true,\"gridcolor\":\"white\",\"linecolor\":\"white\",\"ticks\":\"\",\"title\":{\"standoff\":15},\"zerolinecolor\":\"white\",\"zerolinewidth\":2},\"yaxis\":{\"automargin\":true,\"gridcolor\":\"white\",\"linecolor\":\"white\",\"ticks\":\"\",\"title\":{\"standoff\":15},\"zerolinecolor\":\"white\",\"zerolinewidth\":2}}},\"title\":{\"text\":\"Comparison between Actual and Predicted\"},\"xaxis\":{\"anchor\":\"y\",\"domain\":[0.0,1.0],\"title\":{\"text\":\"Number_of_Values\"}},\"yaxis\":{\"anchor\":\"x\",\"domain\":[0.0,1.0],\"title\":{\"text\":\"Gold Price\"}}},                        {\"responsive\": true}                    ).then(function(){\n",
       "                            \n",
       "var gd = document.getElementById('efa6c475-a4b8-4722-808f-9da9b19cbe31');\n",
       "var x = new MutationObserver(function (mutations, observer) {{\n",
       "        var display = window.getComputedStyle(gd).display;\n",
       "        if (!display || display === 'none') {{\n",
       "            console.log([gd, 'removed!']);\n",
       "            Plotly.purge(gd);\n",
       "            observer.disconnect();\n",
       "        }}\n",
       "}});\n",
       "\n",
       "// Listen for the removal of the full notebook cells\n",
       "var notebookContainer = gd.closest('#notebook-container');\n",
       "if (notebookContainer) {{\n",
       "    x.observe(notebookContainer, {childList: true});\n",
       "}}\n",
       "\n",
       "// Listen for the clearing of the current output cell\n",
       "var outputEl = gd.closest('.output');\n",
       "if (outputEl) {{\n",
       "    x.observe(outputEl, {childList: true});\n",
       "}}\n",
       "\n",
       "                        })                };                });            </script>        </div>"
      ]
     },
     "metadata": {},
     "output_type": "display_data"
    }
   ],
   "source": [
    "fig = px.line(comparison, x = comparison.index, y = [comparison.Actual, comparison.Predicted])\n",
    "\n",
    "fig.update_layout(yaxis_title='Gold Price',\n",
    "    title='Comparison between Actual and Predicted')\n",
    "\n",
    "fig.update_traces(name)\n",
    "iplot(fig)"
   ]
  }
 ],
 "metadata": {
  "interpreter": {
   "hash": "ac67a110c22b5a2dbfbee94e330edc65ab8c73ef4fe4729cecc84c9bf1ab600c"
  },
  "kernelspec": {
   "display_name": "Python 3.9.7 ('base')",
   "language": "python",
   "name": "python3"
  },
  "language_info": {
   "codemirror_mode": {
    "name": "ipython",
    "version": 3
   },
   "file_extension": ".py",
   "mimetype": "text/x-python",
   "name": "python",
   "nbconvert_exporter": "python",
   "pygments_lexer": "ipython3",
   "version": "3.9.7"
  },
  "orig_nbformat": 4
 },
 "nbformat": 4,
 "nbformat_minor": 2
}
