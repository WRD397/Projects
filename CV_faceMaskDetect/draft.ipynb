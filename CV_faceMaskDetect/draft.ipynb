{
 "cells": [
  {
   "cell_type": "code",
   "execution_count": 1,
   "metadata": {},
   "outputs": [],
   "source": [
    "import os\n",
    "import cv2 as cv\n",
    "import pandas as pd"
   ]
  },
  {
   "cell_type": "code",
   "execution_count": 21,
   "metadata": {},
   "outputs": [
    {
     "data": {
      "text/html": [
       "<div>\n",
       "<style scoped>\n",
       "    .dataframe tbody tr th:only-of-type {\n",
       "        vertical-align: middle;\n",
       "    }\n",
       "\n",
       "    .dataframe tbody tr th {\n",
       "        vertical-align: top;\n",
       "    }\n",
       "\n",
       "    .dataframe thead th {\n",
       "        text-align: right;\n",
       "    }\n",
       "</style>\n",
       "<table border=\"1\" class=\"dataframe\">\n",
       "  <thead>\n",
       "    <tr style=\"text-align: right;\">\n",
       "      <th></th>\n",
       "      <th>filename</th>\n",
       "      <th>with_mask</th>\n",
       "      <th>without_mask</th>\n",
       "    </tr>\n",
       "  </thead>\n",
       "  <tbody>\n",
       "    <tr>\n",
       "      <th>0</th>\n",
       "      <td>26-with-mask_jpg.rf.fb2a4fd14461ba4e7d981f51d9...</td>\n",
       "      <td>1</td>\n",
       "      <td>0</td>\n",
       "    </tr>\n",
       "    <tr>\n",
       "      <th>1</th>\n",
       "      <td>66_jpg.rf.fb48333563aba0cd06afba343f625d98.jpg</td>\n",
       "      <td>0</td>\n",
       "      <td>1</td>\n",
       "    </tr>\n",
       "    <tr>\n",
       "      <th>2</th>\n",
       "      <td>153-with-mask_jpg.rf.fb584ce29ce6d9a3123a04d80...</td>\n",
       "      <td>1</td>\n",
       "      <td>0</td>\n",
       "    </tr>\n",
       "    <tr>\n",
       "      <th>3</th>\n",
       "      <td>29-with-mask_jpg.rf.fb9ecac8d3dc335a43b79a9438...</td>\n",
       "      <td>1</td>\n",
       "      <td>0</td>\n",
       "    </tr>\n",
       "    <tr>\n",
       "      <th>4</th>\n",
       "      <td>augmented_image_315_jpg.rf.fba9c25c6675c5a039f...</td>\n",
       "      <td>1</td>\n",
       "      <td>0</td>\n",
       "    </tr>\n",
       "  </tbody>\n",
       "</table>\n",
       "</div>"
      ],
      "text/plain": [
       "                                            filename   with_mask  \\\n",
       "0  26-with-mask_jpg.rf.fb2a4fd14461ba4e7d981f51d9...           1   \n",
       "1     66_jpg.rf.fb48333563aba0cd06afba343f625d98.jpg           0   \n",
       "2  153-with-mask_jpg.rf.fb584ce29ce6d9a3123a04d80...           1   \n",
       "3  29-with-mask_jpg.rf.fb9ecac8d3dc335a43b79a9438...           1   \n",
       "4  augmented_image_315_jpg.rf.fba9c25c6675c5a039f...           1   \n",
       "\n",
       "    without_mask  \n",
       "0              0  \n",
       "1              1  \n",
       "2              0  \n",
       "3              0  \n",
       "4              0  "
      ]
     },
     "execution_count": 21,
     "metadata": {},
     "output_type": "execute_result"
    }
   ],
   "source": [
    "class_info = pd.read_csv(\"/Users/deywr1/Documents/git_files_personal/Projects/CV_faceMaskDetect/datasets/datasets_raw/_classes.csv\")\n",
    "class_info.head()"
   ]
  },
  {
   "cell_type": "code",
   "execution_count": 3,
   "metadata": {},
   "outputs": [],
   "source": [
    "img_dir_raw = \"/Users/deywr1/Documents/git_files_personal/Projects/CV_faceMaskDetect/datasets/datasets_raw/train\"\n",
    "targetMaskedDir = \"/Users/deywr1/Documents/git_files_personal/Projects/CV_faceMaskDetect/datasets/finalDatasets/withMask\"\n",
    "targetNonMasked = \"/Users/deywr1/Documents/git_files_personal/Projects/CV_faceMaskDetect/datasets/finalDatasets/withOutMask\"\n"
   ]
  },
  {
   "cell_type": "code",
   "execution_count": 28,
   "metadata": {},
   "outputs": [
    {
     "name": "stdout",
     "output_type": "stream",
     "text": [
      "metadata info ...\n",
      "masked : 644\n",
      "unmasked : 635\n",
      "new directory info ...\n",
      "masked : 644\n",
      "unmasked : 635\n"
     ]
    }
   ],
   "source": [
    "#### Moving the files.\n",
    "\n",
    "for file in os.listdir(img_dir_raw):\n",
    "    oldDir = img_dir_raw + '/' + file\n",
    "    newDirMasked = targetMaskedDir + '/' + file\n",
    "    newDirNonMasked = targetNonMasked + '/' + file\n",
    "    ### equating with with_mask (with_mask -> column1 , without_mask -> column2)\n",
    "    if class_info[class_info['filename'] == file].iloc[:,1].values[0] == 1:\n",
    "        os.rename(oldDir, newDirMasked)\n",
    "    else :\n",
    "        os.rename(oldDir, newDirNonMasked)\n",
    "\n",
    "print('metadata info ...')\n",
    "print(f'masked : {class_info[' with_mask'].sum()}')\n",
    "print(f'unmasked : {class_info[' without_mask'].sum()}')\n",
    "\n",
    "print('new directory info ...')\n",
    "print(f'masked : {len(os.listdir(targetMaskedDir))}')\n",
    "print(f'unmasked : {len(os.listdir(targetNonMasked))}')\n",
    "\n"
   ]
  },
  {
   "cell_type": "code",
   "execution_count": null,
   "metadata": {},
   "outputs": [],
   "source": []
  },
  {
   "cell_type": "code",
   "execution_count": null,
   "metadata": {},
   "outputs": [],
   "source": []
  },
  {
   "cell_type": "code",
   "execution_count": null,
   "metadata": {},
   "outputs": [],
   "source": []
  },
  {
   "cell_type": "code",
   "execution_count": null,
   "metadata": {},
   "outputs": [],
   "source": []
  }
 ],
 "metadata": {
  "kernelspec": {
   "display_name": "_faceMaskDetect_CV_venv",
   "language": "python",
   "name": "python3"
  },
  "language_info": {
   "codemirror_mode": {
    "name": "ipython",
    "version": 3
   },
   "file_extension": ".py",
   "mimetype": "text/x-python",
   "name": "python",
   "nbconvert_exporter": "python",
   "pygments_lexer": "ipython3",
   "version": "3.12.2"
  }
 },
 "nbformat": 4,
 "nbformat_minor": 2
}
