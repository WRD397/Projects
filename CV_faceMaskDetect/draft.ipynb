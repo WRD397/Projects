{
 "cells": [
  {
   "cell_type": "code",
   "execution_count": 1,
   "metadata": {},
   "outputs": [
    {
     "data": {
      "text/plain": [
       "True"
      ]
     },
     "execution_count": 1,
     "metadata": {},
     "output_type": "execute_result"
    }
   ],
   "source": [
    "import os\n",
    "import random\n",
    "import pandas as pd\n",
    "from customModule import dataPreprocess, modelVGG16, faceMaskDetect\n",
    "from dotenv import load_dotenv\n",
    "load_dotenv()"
   ]
  },
  {
   "cell_type": "code",
   "execution_count": null,
   "metadata": {},
   "outputs": [],
   "source": []
  },
  {
   "cell_type": "markdown",
   "metadata": {},
   "source": [
    "### Rearanging the Files"
   ]
  },
  {
   "cell_type": "code",
   "execution_count": null,
   "metadata": {},
   "outputs": [],
   "source": [
    "class_info = pd.read_csv(\"/Users/deywr1/Documents/git_files_personal/Projects/CV_faceMaskDetect/datasets/datasets_raw/_classes.csv\")\n",
    "class_info.head()"
   ]
  },
  {
   "cell_type": "code",
   "execution_count": null,
   "metadata": {},
   "outputs": [],
   "source": [
    "img_dir_raw = \"/Users/deywr1/Documents/git_files_personal/Projects/CV_faceMaskDetect/datasets/datasets_raw/train\"\n",
    "targetMaskedDir = \"/Users/deywr1/Documents/git_files_personal/Projects/CV_faceMaskDetect/datasets/finalDatasets/withMask\"\n",
    "targetNonMasked = \"/Users/deywr1/Documents/git_files_personal/Projects/CV_faceMaskDetect/datasets/finalDatasets/withOutMask\"\n"
   ]
  },
  {
   "cell_type": "code",
   "execution_count": null,
   "metadata": {},
   "outputs": [],
   "source": [
    "class_info"
   ]
  },
  {
   "cell_type": "code",
   "execution_count": null,
   "metadata": {},
   "outputs": [],
   "source": [
    "class_info[' with_mask'].sum()"
   ]
  },
  {
   "cell_type": "code",
   "execution_count": null,
   "metadata": {},
   "outputs": [],
   "source": [
    "#### Moving the files.\n",
    "\n",
    "for file in os.listdir(img_dir_raw):\n",
    "    oldDir = img_dir_raw + '/' + file\n",
    "    newDirMasked = targetMaskedDir + '/' + file\n",
    "    newDirNonMasked = targetNonMasked + '/' + file\n",
    "    ### equating with with_mask (with_mask -> column1 , without_mask -> column2)\n",
    "    if class_info[class_info['filename'] == file].iloc[:,1].values[0] == 1:\n",
    "        os.rename(oldDir, newDirMasked)\n",
    "    else :\n",
    "        os.rename(oldDir, newDirNonMasked)\n",
    "\n",
    "print('metadata info ...')\n",
    "print(f'masked : {class_info[' with_mask'].sum()}')\n",
    "print(f'unmasked : {class_info[' without_mask'].sum()}')\n",
    "\n",
    "print('new directory info ...')\n",
    "print(f'masked : {len(os.listdir(targetMaskedDir))}')\n",
    "print(f'unmasked : {len(os.listdir(targetNonMasked))}')\n",
    "\n"
   ]
  },
  {
   "cell_type": "code",
   "execution_count": null,
   "metadata": {},
   "outputs": [],
   "source": []
  },
  {
   "cell_type": "code",
   "execution_count": null,
   "metadata": {},
   "outputs": [],
   "source": []
  }
 ],
 "metadata": {
  "kernelspec": {
   "display_name": "_faceMaskDetect_CV_venv",
   "language": "python",
   "name": "python3"
  },
  "language_info": {
   "codemirror_mode": {
    "name": "ipython",
    "version": 3
   },
   "file_extension": ".py",
   "mimetype": "text/x-python",
   "name": "python",
   "nbconvert_exporter": "python",
   "pygments_lexer": "ipython3",
   "version": "3.9.13"
  }
 },
 "nbformat": 4,
 "nbformat_minor": 2
}
