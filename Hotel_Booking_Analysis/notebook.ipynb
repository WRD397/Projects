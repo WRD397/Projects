{
 "cells": [
  {
   "cell_type": "markdown",
   "id": "7a77ff70-1090-46cb-a941-34ebafa54f88",
   "metadata": {},
   "source": [
    "<h2>This is an analyst view on the Hotel Booking Demand Data Set.\n",
    "we will be exploring the data to find features of bookings that eventually get cancelled.</h2>"
   ]
  },
  {
   "cell_type": "code",
   "execution_count": 1,
   "id": "2bc85310-a3b8-4e54-a576-7a8620aa5e58",
   "metadata": {},
   "outputs": [
    {
     "data": {
      "text/html": [
       "<div>\n",
       "<style scoped>\n",
       "    .dataframe tbody tr th:only-of-type {\n",
       "        vertical-align: middle;\n",
       "    }\n",
       "\n",
       "    .dataframe tbody tr th {\n",
       "        vertical-align: top;\n",
       "    }\n",
       "\n",
       "    .dataframe thead th {\n",
       "        text-align: right;\n",
       "    }\n",
       "</style>\n",
       "<table border=\"1\" class=\"dataframe\">\n",
       "  <thead>\n",
       "    <tr style=\"text-align: right;\">\n",
       "      <th></th>\n",
       "      <th>is_canceled</th>\n",
       "      <th>lead_time</th>\n",
       "      <th>arrival_date_week_number</th>\n",
       "      <th>arrival_date_day_of_month</th>\n",
       "      <th>arrival_date_month</th>\n",
       "      <th>stays_in_weekend_nights</th>\n",
       "      <th>stays_in_week_nights</th>\n",
       "      <th>adults</th>\n",
       "      <th>children</th>\n",
       "      <th>babies</th>\n",
       "      <th>...</th>\n",
       "      <th>reserved_room_type_G</th>\n",
       "      <th>reserved_room_type_H</th>\n",
       "      <th>reserved_room_type_L</th>\n",
       "      <th>deposit_type_No_Deposit</th>\n",
       "      <th>deposit_type_Non_Refund</th>\n",
       "      <th>deposit_type_Refundable</th>\n",
       "      <th>customer_type_Contract</th>\n",
       "      <th>customer_type_Group</th>\n",
       "      <th>customer_type_Transient</th>\n",
       "      <th>customer_type_Transient-Party</th>\n",
       "    </tr>\n",
       "  </thead>\n",
       "  <tbody>\n",
       "    <tr>\n",
       "      <th>0</th>\n",
       "      <td>0</td>\n",
       "      <td>342</td>\n",
       "      <td>27</td>\n",
       "      <td>1</td>\n",
       "      <td>7</td>\n",
       "      <td>0</td>\n",
       "      <td>0</td>\n",
       "      <td>2</td>\n",
       "      <td>0.0</td>\n",
       "      <td>0</td>\n",
       "      <td>...</td>\n",
       "      <td>0</td>\n",
       "      <td>0</td>\n",
       "      <td>0</td>\n",
       "      <td>1</td>\n",
       "      <td>0</td>\n",
       "      <td>0</td>\n",
       "      <td>0</td>\n",
       "      <td>0</td>\n",
       "      <td>1</td>\n",
       "      <td>0</td>\n",
       "    </tr>\n",
       "    <tr>\n",
       "      <th>1</th>\n",
       "      <td>0</td>\n",
       "      <td>737</td>\n",
       "      <td>27</td>\n",
       "      <td>1</td>\n",
       "      <td>7</td>\n",
       "      <td>0</td>\n",
       "      <td>0</td>\n",
       "      <td>2</td>\n",
       "      <td>0.0</td>\n",
       "      <td>0</td>\n",
       "      <td>...</td>\n",
       "      <td>0</td>\n",
       "      <td>0</td>\n",
       "      <td>0</td>\n",
       "      <td>1</td>\n",
       "      <td>0</td>\n",
       "      <td>0</td>\n",
       "      <td>0</td>\n",
       "      <td>0</td>\n",
       "      <td>1</td>\n",
       "      <td>0</td>\n",
       "    </tr>\n",
       "    <tr>\n",
       "      <th>2</th>\n",
       "      <td>0</td>\n",
       "      <td>7</td>\n",
       "      <td>27</td>\n",
       "      <td>1</td>\n",
       "      <td>7</td>\n",
       "      <td>0</td>\n",
       "      <td>1</td>\n",
       "      <td>1</td>\n",
       "      <td>0.0</td>\n",
       "      <td>0</td>\n",
       "      <td>...</td>\n",
       "      <td>0</td>\n",
       "      <td>0</td>\n",
       "      <td>0</td>\n",
       "      <td>1</td>\n",
       "      <td>0</td>\n",
       "      <td>0</td>\n",
       "      <td>0</td>\n",
       "      <td>0</td>\n",
       "      <td>1</td>\n",
       "      <td>0</td>\n",
       "    </tr>\n",
       "    <tr>\n",
       "      <th>3</th>\n",
       "      <td>0</td>\n",
       "      <td>13</td>\n",
       "      <td>27</td>\n",
       "      <td>1</td>\n",
       "      <td>7</td>\n",
       "      <td>0</td>\n",
       "      <td>1</td>\n",
       "      <td>1</td>\n",
       "      <td>0.0</td>\n",
       "      <td>0</td>\n",
       "      <td>...</td>\n",
       "      <td>0</td>\n",
       "      <td>0</td>\n",
       "      <td>0</td>\n",
       "      <td>1</td>\n",
       "      <td>0</td>\n",
       "      <td>0</td>\n",
       "      <td>0</td>\n",
       "      <td>0</td>\n",
       "      <td>1</td>\n",
       "      <td>0</td>\n",
       "    </tr>\n",
       "    <tr>\n",
       "      <th>4</th>\n",
       "      <td>0</td>\n",
       "      <td>14</td>\n",
       "      <td>27</td>\n",
       "      <td>1</td>\n",
       "      <td>7</td>\n",
       "      <td>0</td>\n",
       "      <td>2</td>\n",
       "      <td>2</td>\n",
       "      <td>0.0</td>\n",
       "      <td>0</td>\n",
       "      <td>...</td>\n",
       "      <td>0</td>\n",
       "      <td>0</td>\n",
       "      <td>0</td>\n",
       "      <td>1</td>\n",
       "      <td>0</td>\n",
       "      <td>0</td>\n",
       "      <td>0</td>\n",
       "      <td>0</td>\n",
       "      <td>1</td>\n",
       "      <td>0</td>\n",
       "    </tr>\n",
       "  </tbody>\n",
       "</table>\n",
       "<p>5 rows × 53 columns</p>\n",
       "</div>"
      ],
      "text/plain": [
       "   is_canceled  lead_time  arrival_date_week_number  \\\n",
       "0            0        342                        27   \n",
       "1            0        737                        27   \n",
       "2            0          7                        27   \n",
       "3            0         13                        27   \n",
       "4            0         14                        27   \n",
       "\n",
       "   arrival_date_day_of_month  arrival_date_month  stays_in_weekend_nights  \\\n",
       "0                          1                   7                        0   \n",
       "1                          1                   7                        0   \n",
       "2                          1                   7                        0   \n",
       "3                          1                   7                        0   \n",
       "4                          1                   7                        0   \n",
       "\n",
       "   stays_in_week_nights  adults  children  babies  ...  reserved_room_type_G  \\\n",
       "0                     0       2       0.0       0  ...                     0   \n",
       "1                     0       2       0.0       0  ...                     0   \n",
       "2                     1       1       0.0       0  ...                     0   \n",
       "3                     1       1       0.0       0  ...                     0   \n",
       "4                     2       2       0.0       0  ...                     0   \n",
       "\n",
       "   reserved_room_type_H  reserved_room_type_L  deposit_type_No_Deposit  \\\n",
       "0                     0                     0                        1   \n",
       "1                     0                     0                        1   \n",
       "2                     0                     0                        1   \n",
       "3                     0                     0                        1   \n",
       "4                     0                     0                        1   \n",
       "\n",
       "   deposit_type_Non_Refund  deposit_type_Refundable  customer_type_Contract  \\\n",
       "0                        0                        0                       0   \n",
       "1                        0                        0                       0   \n",
       "2                        0                        0                       0   \n",
       "3                        0                        0                       0   \n",
       "4                        0                        0                       0   \n",
       "\n",
       "   customer_type_Group  customer_type_Transient  customer_type_Transient-Party  \n",
       "0                    0                        1                              0  \n",
       "1                    0                        1                              0  \n",
       "2                    0                        1                              0  \n",
       "3                    0                        1                              0  \n",
       "4                    0                        1                              0  \n",
       "\n",
       "[5 rows x 53 columns]"
      ]
     },
     "execution_count": 1,
     "metadata": {},
     "output_type": "execute_result"
    }
   ],
   "source": [
    "import pandas as pd\n",
    "import matplotlib.pyplot as plt\n",
    "import seaborn as sns\n",
    "import numpy as np\n",
    "\n",
    "pd.read_csv(\"hotel_bookings_clean.csv\").head()"
   ]
  },
  {
   "cell_type": "markdown",
   "id": "ec6bec17-b9d2-469b-8d4f-d58c5b3cb35a",
   "metadata": {},
   "source": [
    "<h2>1. Understanding the data\n",
    "</h2>"
   ]
  },
  {
   "cell_type": "code",
   "execution_count": 2,
   "id": "6245c055-b5cb-4583-9a25-40d866c642b1",
   "metadata": {},
   "outputs": [],
   "source": [
    "\n",
    "df =  pd.read_csv(\"hotel_bookings_clean.csv\")"
   ]
  },
  {
   "cell_type": "markdown",
   "id": "e3222322-31eb-4534-bf57-5f4f305ec740",
   "metadata": {},
   "source": [
    "#understand the columns\n",
    "\n",
    "#df.columns"
   ]
  },
  {
   "cell_type": "code",
   "execution_count": 3,
   "id": "664f56b5-44fa-4f28-b099-9c83279527be",
   "metadata": {},
   "outputs": [
    {
     "data": {
      "text/plain": [
       "(119210, 53)"
      ]
     },
     "execution_count": 3,
     "metadata": {},
     "output_type": "execute_result"
    }
   ],
   "source": [
    "#how many rows and columns are involved?\n",
    "df.shape"
   ]
  },
  {
   "cell_type": "code",
   "execution_count": 4,
   "id": "f6a4630e",
   "metadata": {},
   "outputs": [
    {
     "data": {
      "text/plain": [
       "Index(['is_canceled', 'lead_time', 'arrival_date_week_number',\n",
       "       'arrival_date_day_of_month', 'arrival_date_month',\n",
       "       'stays_in_weekend_nights', 'stays_in_week_nights', 'adults', 'children',\n",
       "       'babies', 'is_repeated_guest', 'previous_cancellations',\n",
       "       'previous_bookings_not_canceled', 'required_car_parking_spaces',\n",
       "       'total_of_special_requests', 'avg_daily_rate', 'booked_by_company',\n",
       "       'booked_by_agent', 'hotel_City', 'hotel_Resort', 'meal_BB', 'meal_FB',\n",
       "       'meal_HB', 'meal_No_meal', 'market_segment_Aviation',\n",
       "       'market_segment_Complementary', 'market_segment_Corporate',\n",
       "       'market_segment_Direct', 'market_segment_Groups',\n",
       "       'market_segment_Offline_TA_TO', 'market_segment_Online_TA',\n",
       "       'market_segment_Undefined', 'distribution_channel_Corporate',\n",
       "       'distribution_channel_Direct', 'distribution_channel_GDS',\n",
       "       'distribution_channel_TA_TO', 'distribution_channel_Undefined',\n",
       "       'reserved_room_type_A', 'reserved_room_type_B', 'reserved_room_type_C',\n",
       "       'reserved_room_type_D', 'reserved_room_type_E', 'reserved_room_type_F',\n",
       "       'reserved_room_type_G', 'reserved_room_type_H', 'reserved_room_type_L',\n",
       "       'deposit_type_No_Deposit', 'deposit_type_Non_Refund',\n",
       "       'deposit_type_Refundable', 'customer_type_Contract',\n",
       "       'customer_type_Group', 'customer_type_Transient',\n",
       "       'customer_type_Transient-Party'],\n",
       "      dtype='object')"
      ]
     },
     "execution_count": 4,
     "metadata": {},
     "output_type": "execute_result"
    }
   ],
   "source": [
    "df.columns"
   ]
  },
  {
   "cell_type": "code",
   "execution_count": 140,
   "id": "473923d8-ef7b-4570-b696-18855a78b107",
   "metadata": {},
   "outputs": [
    {
     "data": {
      "text/plain": [
       "is_canceled                       0\n",
       "lead_time                         0\n",
       "arrival_date_week_number          0\n",
       "arrival_date_day_of_month         0\n",
       "arrival_date_month                0\n",
       "stays_in_weekend_nights           0\n",
       "stays_in_week_nights              0\n",
       "adults                            0\n",
       "children                          4\n",
       "babies                            0\n",
       "is_repeated_guest                 0\n",
       "previous_cancellations            0\n",
       "previous_bookings_not_canceled    0\n",
       "required_car_parking_spaces       0\n",
       "total_of_special_requests         0\n",
       "avg_daily_rate                    0\n",
       "booked_by_company                 0\n",
       "booked_by_agent                   0\n",
       "hotel_City                        0\n",
       "hotel_Resort                      0\n",
       "meal_BB                           0\n",
       "meal_FB                           0\n",
       "meal_HB                           0\n",
       "meal_No_meal                      0\n",
       "market_segment_Aviation           0\n",
       "market_segment_Complementary      0\n",
       "market_segment_Corporate          0\n",
       "market_segment_Direct             0\n",
       "market_segment_Groups             0\n",
       "market_segment_Offline_TA_TO      0\n",
       "market_segment_Online_TA          0\n",
       "market_segment_Undefined          0\n",
       "distribution_channel_Corporate    0\n",
       "distribution_channel_Direct       0\n",
       "distribution_channel_GDS          0\n",
       "distribution_channel_TA_TO        0\n",
       "distribution_channel_Undefined    0\n",
       "reserved_room_type_A              0\n",
       "reserved_room_type_B              0\n",
       "reserved_room_type_C              0\n",
       "reserved_room_type_D              0\n",
       "reserved_room_type_E              0\n",
       "reserved_room_type_F              0\n",
       "reserved_room_type_G              0\n",
       "reserved_room_type_H              0\n",
       "reserved_room_type_L              0\n",
       "deposit_type_No_Deposit           0\n",
       "deposit_type_Non_Refund           0\n",
       "deposit_type_Refundable           0\n",
       "customer_type_Contract            0\n",
       "customer_type_Group               0\n",
       "customer_type_Transient           0\n",
       "customer_type_Transient-Party     0\n",
       "dtype: int64"
      ]
     },
     "execution_count": 140,
     "metadata": {},
     "output_type": "execute_result"
    }
   ],
   "source": [
    "#are there missing values?\n",
    "df.isna().sum()"
   ]
  },
  {
   "cell_type": "markdown",
   "id": "30b6c354-cd78-4d1c-a2a8-9fc2d932ca20",
   "metadata": {},
   "source": [
    "* only four missing values in the children column, this is pretty clean data.\n",
    "* 53 columns is alot to deal with at once, we'll take the info in subsets\n",
    "\n",
    "So, lets do a quick visualization on\n",
    "## how many bookings were cancelled?"
   ]
  },
  {
   "cell_type": "code",
   "execution_count": 5,
   "id": "8d781cc3-e54f-4604-b167-dc61f85a7255",
   "metadata": {},
   "outputs": [
    {
     "data": {
      "image/png": "[encoded data removed]",
      "text/plain": [
       "<Figure size 432x288 with 1 Axes>"
      ]
     },
     "metadata": {},
     "output_type": "display_data"
    }
   ],
   "source": [
    "palette_color = sns.color_palette('pastel')\n",
    "df['is_canceled'].value_counts().plot(kind='pie',colors=palette_color,labels=['No','Yes'], autopct = '%0.0f%%')\n",
    "plt.title('Distribution of Cancelled Bookings')\n",
    "plt.show()"
   ]
  },
  {
   "cell_type": "markdown",
   "id": "fea6ea8e-3acc-4bd8-a255-cf4e92bc7ca2",
   "metadata": {},
   "source": [
    "The data seems already cleaned and organised. Not much cleaning needed."
   ]
  },
  {
   "cell_type": "markdown",
   "id": "f7c6f2c5-10da-4d07-8606-a7e035f05ba4",
   "metadata": {},
   "source": [
    "<h2>2. Finding Relationships (EDA) </h2>"
   ]
  },
  {
   "cell_type": "code",
   "execution_count": 7,
   "id": "89478c16-2f27-4828-bc40-ad75ddae6f5c",
   "metadata": {},
   "outputs": [
    {
     "data": {
      "text/plain": [
       "<AxesSubplot:title={'center':'Monthly Bookings'}, xlabel='arrival_date_month', ylabel='Count'>"
      ]
     },
     "execution_count": 7,
     "metadata": {},
     "output_type": "execute_result"
    },
    {
     "data": {
      "image/png": "[encoded data removed]",
      "text/plain": [
       "<Figure size 432x360 with 1 Axes>"
      ]
     },
     "metadata": {
      "needs_background": "light"
     },
     "output_type": "display_data"
    }
   ],
   "source": [
    "#Which month has the highest bookings?\n",
    "fig, ax = plt.subplots(figsize=(6,5))\n",
    "plt.title('Monthly Bookings')\n",
    "plt.xticks([1,2,3,4,5,6,7,8,9,10,11,12])\n",
    "ax.set_xticklabels(['Jan','Feb','Mar','Apr','May','Jun','Jul','Aug','Sep','Oct','Nov','Dec'])\n",
    "\n",
    "sns.histplot(data=df, x=\"arrival_date_month\", hue=\"is_canceled\",multiple=\"dodge\",binwidth=0.5,discrete=True)"
   ]
  },
  {
   "cell_type": "markdown",
   "id": "e0a5c91d-785c-443a-a1f4-7b25a0686e8e",
   "metadata": {},
   "source": [
    "* There is seems to be a consistent proportion of cancellations across months.\n",
    "* Also, summer months have the highest bookings.\n",
    "\n",
    "Any relationship between lead time and cancellation?"
   ]
  },
  {
   "cell_type": "code",
   "execution_count": 8,
   "id": "fe368b11-d72c-4765-9b2b-6047a82e0e85",
   "metadata": {},
   "outputs": [
    {
     "data": {
      "text/plain": [
       "479"
      ]
     },
     "execution_count": 8,
     "metadata": {},
     "output_type": "execute_result"
    }
   ],
   "source": [
    "df['lead_time'].nunique()\n",
    "#too many for a category"
   ]
  },
  {
   "cell_type": "markdown",
   "id": "cfab794f-046e-4c16-b25e-2d155b5f4baf",
   "metadata": {},
   "source": [
    "We willl categorise the lead time and see if there is a relationship"
   ]
  },
  {
   "cell_type": "code",
   "execution_count": 9,
   "id": "7ff19d9d-968c-4d8d-9491-6257724be880",
   "metadata": {},
   "outputs": [
    {
     "name": "stderr",
     "output_type": "stream",
     "text": [
      "C:\\Users\\writa\\AppData\\Local\\Temp/ipykernel_3952/4171431199.py:20: SettingWithCopyWarning: \n",
      "A value is trying to be set on a copy of a slice from a DataFrame.\n",
      "Try using .loc[row_indexer,col_indexer] = value instead\n",
      "\n",
      "See the caveats in the documentation: https://pandas.pydata.org/pandas-docs/stable/user_guide/indexing.html#returning-a-view-versus-a-copy\n",
      "  df_cancelled['lead_time_frame'] = df['lead_time'].apply(lambda x: lead_time(x))\n"
     ]
    }
   ],
   "source": [
    "#function to categorise lead time\n",
    "def lead_time(x):\n",
    "    if x < 2: \n",
    "        return '1day'\n",
    "    elif x >= 2 and x < 8:\n",
    "        return '1week'\n",
    "    elif x >= 8 and x <15:\n",
    "        return '2weeks'\n",
    "    elif x >= 15 and x < 32:\n",
    "        return '1month'\n",
    "    elif x >= 32 and x < 185:\n",
    "        return '6months'\n",
    "    elif x >= 185 and x < 365:\n",
    "        return '1year'\n",
    "    else: return '1yearplus'\n",
    "\n",
    "\n",
    "\n",
    "df_cancelled = df[['lead_time','is_canceled']]\n",
    "df_cancelled['lead_time_frame'] = df['lead_time'].apply(lambda x: lead_time(x))"
   ]
  },
  {
   "cell_type": "code",
   "execution_count": 10,
   "id": "2be00513-4ef4-4954-a39c-27adfc53afbc",
   "metadata": {},
   "outputs": [
    {
     "data": {
      "text/html": [
       "<div>\n",
       "<style scoped>\n",
       "    .dataframe tbody tr th:only-of-type {\n",
       "        vertical-align: middle;\n",
       "    }\n",
       "\n",
       "    .dataframe tbody tr th {\n",
       "        vertical-align: top;\n",
       "    }\n",
       "\n",
       "    .dataframe thead th {\n",
       "        text-align: right;\n",
       "    }\n",
       "</style>\n",
       "<table border=\"1\" class=\"dataframe\">\n",
       "  <thead>\n",
       "    <tr style=\"text-align: right;\">\n",
       "      <th></th>\n",
       "      <th>lead_time</th>\n",
       "      <th>is_canceled</th>\n",
       "      <th>lead_time_frame</th>\n",
       "    </tr>\n",
       "  </thead>\n",
       "  <tbody>\n",
       "    <tr>\n",
       "      <th>0</th>\n",
       "      <td>342</td>\n",
       "      <td>0</td>\n",
       "      <td>1year</td>\n",
       "    </tr>\n",
       "    <tr>\n",
       "      <th>1</th>\n",
       "      <td>737</td>\n",
       "      <td>0</td>\n",
       "      <td>1yearplus</td>\n",
       "    </tr>\n",
       "    <tr>\n",
       "      <th>2</th>\n",
       "      <td>7</td>\n",
       "      <td>0</td>\n",
       "      <td>1week</td>\n",
       "    </tr>\n",
       "    <tr>\n",
       "      <th>3</th>\n",
       "      <td>13</td>\n",
       "      <td>0</td>\n",
       "      <td>2weeks</td>\n",
       "    </tr>\n",
       "    <tr>\n",
       "      <th>4</th>\n",
       "      <td>14</td>\n",
       "      <td>0</td>\n",
       "      <td>2weeks</td>\n",
       "    </tr>\n",
       "  </tbody>\n",
       "</table>\n",
       "</div>"
      ],
      "text/plain": [
       "   lead_time  is_canceled lead_time_frame\n",
       "0        342            0           1year\n",
       "1        737            0       1yearplus\n",
       "2          7            0           1week\n",
       "3         13            0          2weeks\n",
       "4         14            0          2weeks"
      ]
     },
     "execution_count": 10,
     "metadata": {},
     "output_type": "execute_result"
    }
   ],
   "source": [
    "#cancelled is a subset\n",
    "df_cancelled.head()"
   ]
  },
  {
   "cell_type": "code",
   "execution_count": 11,
   "id": "5cdbef41-c7eb-4159-81e2-9bbfd171f0c5",
   "metadata": {},
   "outputs": [],
   "source": [
    "#grouping to make it easy for visual analysis\n",
    "df_cancelled_grouped = df_cancelled.groupby(['is_canceled','lead_time_frame'])['lead_time'].count().unstack('is_canceled')"
   ]
  },
  {
   "cell_type": "code",
   "execution_count": 12,
   "id": "604ef33f-9837-4617-afa7-c187fcbfb8ba",
   "metadata": {},
   "outputs": [],
   "source": [
    "#easier to plot and manipulate a dataframe\n",
    "#let us calculate probability manually\n",
    "#please if there are easier ways let me know\n",
    "leadtime_probability = pd.DataFrame(df_cancelled_grouped[1]/(df_cancelled_grouped[1]+df_cancelled_grouped[0]))"
   ]
  },
  {
   "cell_type": "code",
   "execution_count": 13,
   "id": "2425a30d-b2b9-4f7f-abf9-2210fd143495",
   "metadata": {},
   "outputs": [
    {
     "data": {
      "image/png": "[encoded data removed]",
      "text/plain": [
       "<Figure size 432x288 with 1 Axes>"
      ]
     },
     "metadata": {
      "needs_background": "light"
     },
     "output_type": "display_data"
    }
   ],
   "source": [
    "leadtime_probability.reindex(['1day','1week','2weeks','1month','6months','1year','1yearplus']).plot(kind='bar',legend=None)\n",
    "\n",
    "plt.title('Probability of Cancellation by lead time frame')\n",
    "plt.show()"
   ]
  },
  {
   "cell_type": "code",
   "execution_count": 14,
   "id": "86ee2174-5903-4906-bd0a-23d5ad140956",
   "metadata": {},
   "outputs": [
    {
     "data": {
      "image/png": "[encoded data removed]",
      "text/plain": [
       "<Figure size 432x432 with 1 Axes>"
      ]
     },
     "metadata": {},
     "output_type": "display_data"
    }
   ],
   "source": [
    "#Let us see if the room type affects cancellation.\n",
    "#reserved_room_type_A\n",
    "\n",
    "#subset to only cancelled bookings\n",
    "\n",
    "df_cancelled = df[df['is_canceled']==1]\n",
    "\n",
    "def get_sum(x):\n",
    "    room_type = 'reserved_room_type_'+x\n",
    "    number_cancelled = df_cancelled[room_type].sum()\n",
    "    return number_cancelled\n",
    "\n",
    "\n",
    "rooms = ['A','B','C','D','E','F','G']\n",
    "\n",
    "numbers = []\n",
    "for room in rooms:\n",
    " numbers.append(get_sum(room))\n",
    "\n",
    "\n",
    "\n",
    "\n",
    "#cancelled_rooms = pd.DataFrame((zip(rooms,numbers)))\n",
    "\n",
    "#pie chart\n",
    "explode = [0.2, 0.1, 0.1, 0.1, 0.1,0.1,0.1]\n",
    "fig,ax= plt.subplots(figsize=(6,6))\n",
    "ax.set_title('Cancellations by Room Type')\n",
    "color1 = sns.color_palette(\"rainbow\")\n",
    "plt.pie(numbers, labels=rooms,  autopct='%.0f%%',explode=explode,colors=color1)\n",
    "\n",
    "plt.show()\n",
    "\n",
    "\n",
    "\n"
   ]
  },
  {
   "cell_type": "markdown",
   "id": "1c31d5b2-5b55-4716-a392-640e2aee3a2f",
   "metadata": {},
   "source": [
    "Room type A, clearly has the highest cancellation.\n",
    "\n",
    "Do agent or company bookings have higher cancellations?"
   ]
  },
  {
   "cell_type": "code",
   "execution_count": 15,
   "id": "ca88234e-e1e5-4cb0-acdd-adc8bc18b68d",
   "metadata": {},
   "outputs": [
    {
     "data": {
      "image/png": "[encoded data removed]",
      "text/plain": [
       "<Figure size 432x288 with 1 Axes>"
      ]
     },
     "metadata": {
      "needs_background": "light"
     },
     "output_type": "display_data"
    }
   ],
   "source": [
    "#what is the number of cancelations by booking type, agent or company booked?\n",
    "\n",
    "df_cancelled.groupby('is_canceled')[['booked_by_company','booked_by_agent']].sum().plot(kind='bar')\n",
    "plt.title('Number Comparison of Cancellation by booking type')\n",
    "plt.show()"
   ]
  },
  {
   "cell_type": "markdown",
   "id": "7cebf385-d8cb-4e29-a202-2a863659591f",
   "metadata": {},
   "source": [
    "Rooms booked by agents have more cancellations. \n",
    "\n",
    "This is also indicative of the probability as the two events are mutually exlusive."
   ]
  },
  {
   "cell_type": "markdown",
   "id": "2edad107-48e0-49ff-a637-b79b1b3723d5",
   "metadata": {},
   "source": [
    "Are parents more likely to cancel than single people or couples?"
   ]
  },
  {
   "cell_type": "code",
   "execution_count": 16,
   "id": "32efdd8f-efc9-43c8-b39e-37e8929fe2bb",
   "metadata": {},
   "outputs": [
    {
     "name": "stderr",
     "output_type": "stream",
     "text": [
      "C:\\Users\\writa\\AppData\\Local\\Temp/ipykernel_3952/2189857042.py:3: SettingWithCopyWarning: \n",
      "A value is trying to be set on a copy of a slice from a DataFrame.\n",
      "Try using .loc[row_indexer,col_indexer] = value instead\n",
      "\n",
      "See the caveats in the documentation: https://pandas.pydata.org/pandas-docs/stable/user_guide/indexing.html#returning-a-view-versus-a-copy\n",
      "  df_cancelled['population'] = df_cancelled['adults'] + df_cancelled['children'] + df_cancelled['babies'] # cancelled number\n"
     ]
    },
    {
     "data": {
      "text/plain": [
       "0    2.0\n",
       "1    2.0\n",
       "2    1.0\n",
       "3    1.0\n",
       "4    2.0\n",
       "Name: population, dtype: float64"
      ]
     },
     "execution_count": 16,
     "metadata": {},
     "output_type": "execute_result"
    }
   ],
   "source": [
    "#We will assume bookings that equal 1 adult is single, bookings with only two adults a couple and those with children or babies as families.\n",
    "\n",
    "df_cancelled['population'] = df_cancelled['adults'] + df_cancelled['children'] + df_cancelled['babies'] # cancelled number\n",
    "df['population'] = df['adults'] + df['children'] + df['babies'] #total number\n",
    "df_cancelled['population'].head()\n",
    "df['population'].head()"
   ]
  },
  {
   "cell_type": "code",
   "execution_count": 17,
   "id": "2751011d-c7f3-44fa-84c5-4b59d8641314",
   "metadata": {},
   "outputs": [
    {
     "name": "stderr",
     "output_type": "stream",
     "text": [
      "C:\\Users\\writa\\AppData\\Local\\Temp/ipykernel_3952/2806303132.py:15: SettingWithCopyWarning: \n",
      "A value is trying to be set on a copy of a slice from a DataFrame.\n",
      "Try using .loc[row_indexer,col_indexer] = value instead\n",
      "\n",
      "See the caveats in the documentation: https://pandas.pydata.org/pandas-docs/stable/user_guide/indexing.html#returning-a-view-versus-a-copy\n",
      "  df_cancelled['guest'] = df_cancelled[['population','adults']].apply(lambda x: guest_define(x),axis=1)\n"
     ]
    }
   ],
   "source": [
    "#function to categorise guests\n",
    "def guest_define(x):\n",
    "    if x[0] == 1: \n",
    "        return 'single'\n",
    "    elif x[0] == 2 and x[1] == 2:\n",
    "        return 'couple'\n",
    "    elif x[0] > 2 and x[1] > 2:\n",
    "        return 'group'\n",
    "    elif x[0] > 1 and x[1] == 1:\n",
    "        return 'single_parent'\n",
    "    else: return 'family'\n",
    "\n",
    "\n",
    "#get a tuple of population and adults to make sure they are not couples\n",
    "df_cancelled['guest'] = df_cancelled[['population','adults']].apply(lambda x: guest_define(x),axis=1)\n",
    "\n",
    "\n",
    "#get the total guest types to calculate the probabilities\n",
    "\n",
    "df['guest'] = df[['population','adults']].apply(lambda x: guest_define(x),axis=1)\n",
    "\n",
    "\n"
   ]
  },
  {
   "cell_type": "code",
   "execution_count": 18,
   "id": "301a0c57-abc7-43a4-9e0f-1e3f213e118c",
   "metadata": {},
   "outputs": [
    {
     "name": "stdout",
     "output_type": "stream",
     "text": [
      "couple           0.397526\n",
      "single           0.290288\n",
      "family           0.350234\n",
      "group            0.347508\n",
      "single_parent    0.264444\n",
      "Name: guest, dtype: float64\n"
     ]
    }
   ],
   "source": [
    " # probability of cancellation by guest type, cancelled divided by total\n",
    "print(df_cancelled['guest'].value_counts()/df['guest'].value_counts())\n",
    "df_guest = pd.DataFrame(df_cancelled['guest'].value_counts()/df['guest'].value_counts())"
   ]
  },
  {
   "cell_type": "code",
   "execution_count": 19,
   "id": "0ea0f3b0-2245-43b5-8a28-24c10438f0aa",
   "metadata": {},
   "outputs": [
    {
     "data": {
      "image/png": "[encoded data removed]",
      "text/plain": [
       "<Figure size 432x288 with 1 Axes>"
      ]
     },
     "metadata": {
      "needs_background": "light"
     },
     "output_type": "display_data"
    }
   ],
   "source": [
    "sns.barplot(x=df_guest.index,y=df_guest['guest'])\n",
    "plt.ylabel('Probability of cancellation')\n",
    "plt.title('Cancellation Probability by Guest type')\n",
    "plt.show()"
   ]
  },
  {
   "cell_type": "markdown",
   "id": "bff5c624-86e3-48b8-8ddc-634957ce84ab",
   "metadata": {},
   "source": [
    "Not much variation in the probability of cancelation by guest type. But couples have the highest tendency to cancel."
   ]
  },
  {
   "cell_type": "markdown",
   "id": "e1ceed8e-1cc7-4452-90a7-236e8f7c7935",
   "metadata": {},
   "source": [
    "The way the data has been structured leans more toward machine learning and prediction. At this point I would halt the analysis as the data has already been clean and engineered."
   ]
  },
  {
   "cell_type": "markdown",
   "id": "c4136dea-91ee-401c-b9f8-0f171042c27d",
   "metadata": {},
   "source": [
    "<h2>3.Conclusion</h2>"
   ]
  },
  {
   "cell_type": "markdown",
   "id": "6116d21e-2cad-41e6-9a8f-c06f57d64846",
   "metadata": {},
   "source": [
    "With data already engineered, raw analysis is a challenge as the data was engineered to fit into a particular pipeline.\n",
    "\n",
    "<strong>But we can tell that room type A, couples and long lead times have the highest cancellations.</strong>"
   ]
  }
 ],
 "metadata": {
  "colab": {
   "name": "Machine_Learning_with_XGBoost_solution.ipynb",
   "provenance": []
  },
  "kernelspec": {
   "display_name": "Python 3.9.7 ('base')",
   "language": "python",
   "name": "python3"
  },
  "language_info": {
   "codemirror_mode": {
    "name": "ipython",
    "version": 3
   },
   "file_extension": ".py",
   "mimetype": "text/x-python",
   "name": "python",
   "nbconvert_exporter": "python",
   "pygments_lexer": "ipython3",
   "version": "3.9.7"
  },
  "varInspector": {
   "cols": {
    "lenName": 16,
    "lenType": 16,
    "lenVar": 40
   },
   "kernels_config": {
    "python": {
     "delete_cmd_postfix": "",
     "delete_cmd_prefix": "del ",
     "library": "var_list.py",
     "varRefreshCmd": "print(var_dic_list())"
    },
    "r": {
     "delete_cmd_postfix": ") ",
     "delete_cmd_prefix": "rm(",
     "library": "var_list.r",
     "varRefreshCmd": "cat(var_dic_list()) "
    }
   },
   "types_to_exclude": [
    "module",
    "function",
    "builtin_function_or_method",
    "instance",
    "_Feature"
   ],
   "window_display": false
  },
  "vscode": {
   "interpreter": {
    "hash": "ac67a110c22b5a2dbfbee94e330edc65ab8c73ef4fe4729cecc84c9bf1ab600c"
   }
  }
 },
 "nbformat": 4,
 "nbformat_minor": 5
}
