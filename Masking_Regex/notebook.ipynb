{
 "cells": [
  {
   "cell_type": "markdown",
   "metadata": {},
   "source": [
    "Lets look at the data we are given"
   ]
  },
  {
   "cell_type": "code",
   "execution_count": 1,
   "metadata": {},
   "outputs": [
    {
     "data": {
      "text/plain": [
       "<_io.TextIOWrapper name='data.txt' mode='r' encoding='cp1252'>"
      ]
     },
     "execution_count": 1,
     "metadata": {},
     "output_type": "execute_result"
    }
   ],
   "source": [
    "open('data.txt','r')"
   ]
  },
  {
   "cell_type": "markdown",
   "metadata": {},
   "source": [
    "As we can see the data is encoded so lets try to open it using read() method"
   ]
  },
  {
   "cell_type": "code",
   "execution_count": 1,
   "metadata": {},
   "outputs": [
    {
     "data": {
      "text/plain": [
       "\"Dave Martin\\n615-555-7164\\n173 Main St., Springfield RI 55924\\ndavemartin@bogusemail.com\\n\\nCharles Harris\\n800-555-5669\\n969 High St., Atlantis VA 34075\\ncharlesharris@bogusemail.com\\n\\nEric Williams\\n560-555-5153\\n806 1st St., Faketown AK 86847\\nlaurawilliams@bogusemail.com\\n\\nCorey Jefferson\\n900-555-9340\\n826 Elm St., Epicburg NE 10671\\ncoreyjefferson@bogusemail.com\\n\\nJennifer Martin-White\\n714-555-7405\\n212 Cedar St., Sunnydale CT 74983\\njenniferwhite@bogusemail.com\\n\\nErick Davis\\n800-555-6771\\n519 Washington St., Olympus TN 32425\\ntomdavis@bogusemail.com\\n\\nNeil Patterson\\n783-555-4799\\n625 Oak St., Dawnstar IL 61914\\nneilpatterson@bogusemail.com\\n\\nLaura Jefferson\\n516-555-4615\\n890 Main St., Pythonville LA 29947\\nlaurajefferson@bogusemail.com\\n\\nMaria Johnson\\n127-555-1867\\n884 High St., Braavosâ€Ž ME 43597\\nmariajohnson@bogusemail.com\\n\\nMichael Arnold\\n608-555-4938\\n249 Elm St., Quahog OR 90938\\nmichaelarnold@bogusemail.com\\n\\nMichael Smith\\n568-555-6051\\n619 Park St., Winterfell VA 99000\\nmichaelsmith@bogusemail.com\\n\\nErik Stuart\\n292-555-1875\\n220 Cedar St., Lakeview NY 87282\\nrobertstuart@bogusemail.com\\n\\nLaura Martin\\n900-555-3205\\n391 High St., Smalltown WY 28362\\nlauramartin@bogusemail.com\\n\\nBarbara Martin\\n614-555-1166\\n121 Hill St., Braavosâ€Ž UT 92474\\nbarbaramartin@bogusemail.com\\n\\nLinda Jackson\\n530-555-2676\\n433 Elm St., Westworld TX 61967\\nlindajackson@bogusemail.com\\n\\nEric Miller\\n470-555-2750\\n838 Main St., Balmora MT 56526\\nstevemiller@bogusemail.com\\n\\nDave Arnold\\n800-555-6089\\n732 High St., Valyria KY 97152\\ndavearnold@bogusemail.com\\n\\nJennifer Jacobs\\n880-555-8319\\n217 High St., Old-town IA 82767\\njenniferjacobs@bogusemail.com\\n\\nNeil Wilson\\n777-555-8378\\n191 Main St., Mordor IL 72160\\nneilwilson@bogusemail.com\\n\\nKurt Jackson\\n998-555-7385\\n607 Washington St., Blackwater NH 97183\\nkurtjackson@bogusemail.com\\n\\nMary Jacobs\\n800-555-7100\\n478 Oak St., Bedrock IA 58176\\nmaryjacobs@bogusemail.com\\n\\nMichael White\\n903-555-8277\\n906 Elm St., Mordor TX 89212\\nmichaelwhite@bogusemail.com\\n\\nJennifer Jenkins\\n196-555-5674\\n949 Main St., Smalltown SC 96962\\njenniferjenkins@bogusemail.com\\n\\nSam Wright\\n900-555-5118\\n835 Pearl St., Smalltown ND 77737\\nsamwright@bogusemail.com\\n\\nJohn Davis\\n905-555-1630\\n451 Lake St., Bedrock GA 34615\\njohndavis@bogusemail.com\\n\\nEric Davis\\n203-555-3475\\n419 Lake St., Balmora OR 30826\\nneildavis@bogusemail.com\\n\\nLaura Jackson\\n884-555-8444\\n443 Maple St., Quahog MS 29348\\nlaurajackson@bogusemail.com\\n\\nJohn Williams\\n904-555-8559\\n756 Hill St., Valyria KY 94854\\njohnwilliams@bogusemail.com\\n\\nMichael Martin\\n889-555-7393\\n216 High St., Olympus NV 21888\\nmichaelmartin@bogusemail.com\\n\\nMaggie Brown\\n195-555-2405\\n806 Lake St., Lakeview MD 59348\\nmaggiebrown@bogusemail.com\\n\\nErik Wilson\\n321-555-9053\\n354 Hill St., Mordor FL 74122\\nkurtwilson@bogusemail.com\\n\\nElizabeth Arnold\\n133-555-1711\\n805 Maple St., Winterfell NV 99431\\nelizabetharnold@bogusemail.com\\n\\nJane Martin\\n900-555-5428\\n418 Park St., Metropolis ID 16576\\njanemartin@bogusemail.com\\n\\nTravis Johnson\\n760-555-7147\\n749 Washington St., Braavosâ€Ž SD 25668\\ntravisjohnson@bogusemail.com\\n\\nLaura Jefferson\\n391-555-6621\\n122 High St., Metropolis ME 29540\\nlaurajefferson@bogusemail.com\\n\\nTom Williams\\n932-555-7724\\n610 High St., Old-town FL 60758\\ntomwilliams@bogusemail.com\\n\\nJennifer Taylor\\n609-555-7908\\n332 Main St., Pythonville OH 78172\\njennifertaylor@bogusemail.com\\n\\nErick Wright\\n800-555-8810\\n858 Hill St., Blackwater NC 79714\\njenniferwright@bogusemail.com\\n\\nSteve Doe\\n149-555-7657\\n441 Elm St., Atlantis MS 87195\\nstevedoe@bogusemail.com\\n\\nKurt Davis\\n130-555-9709\\n404 Oak St., Atlantis ND 85386\\nkurtdavis@bogusemail.com\\n\\nCorey Harris\\n143-555-9295\\n286 Pearl St., Vice City TX 57112\\ncoreyharris@bogusemail.com\\n\\nNicole Taylor\\n903-555-9878\\n465 Hill St., Old-town LA 64102\\nnicoletaylor@bogusemail.com\\n\\nElizabeth Davis\\n574-555-3194\\n151 Lake St., Eerie SD 17880\\nelizabethdavis@bogusemail.com\\n\\nMaggie Jenkins\\n496-555-7533\\n504 Lake St., Gotham PA 46692\\nmaggiejenkins@bogusemail.com\\n\\nLinda Davis\\n210-555-3757\\n201 Pine St., Vice City AR 78455\\nlindadavis@bogusemail.com\\n\\nDave Moore\\n900-555-9598\\n251 Pine St., Old-town OK 29087\\ndavemoore@bogusemail.com\\n\\nLinda Jenkins\\n866-555-9844\\n117 High St., Bedrock NE 11899\\nlindajenkins@bogusemail.com\\n\\nEric White\\n669-555-7159\\n650 Oak St., Smalltown TN 43281\\nsamwhite@bogusemail.com\\n\\nLaura Robinson\\n152-555-7417\\n377 Pine St., Valyria NC 78036\\nlaurarobinson@bogusemail.com\\n\\nCharles Patterson\\n893-555-9832\\n416 Pearl St., Valyria AK 62260\\ncharlespatterson@bogusemail.com\\n\\nJoe Jackson\\n217-555-7123\\n683 Cedar St., South Park KS 66724\\njoejackson@bogusemail.com\\n\\nMichael Johnson\\n786-555-6544\\n288 Hill St., Smalltown AZ 18586\\nmichaeljohnson@bogusemail.com\\n\\nCorey Miller\\n780-555-2574\\n286 High St., Springfield IA 16272\\ncoreymiller@bogusemail.com\\n\\nJames Moore\\n926-555-8735\\n278 Main St., Gotham KY 89569\\njamesmoore@bogusemail.com\\n\\nJennifer Stuart\\n895-555-3539\\n766 Hill St., King's Landing GA 54999\\njenniferstuart@bogusemail.com\\n\\nCharles Martin\\n874-555-3949\\n775 High St., Faketown PA 89260\\ncharlesmartin@bogusemail.com\\n\\nEric Wilks\\n800-555-2420\\n885 Main St., Blackwater OH 61275\\njoewilks@bogusemail.com\\n\\nElizabeth Arnold\\n936-555-6340\\n528 Hill St., Atlantis NH 88289\\nelizabetharnold@bogusemail.com\\n\\nJohn Miller\\n372-555-9809\\n117 Cedar St., Thundera NM 75205\\njohnmiller@bogusemail.com\\n\\nCorey Jackson\\n890-555-5618\\n115 Oak St., Gotham UT 36433\\ncoreyjackson@bogusemail.com\\n\\nSam Thomas\\n670-555-3005\\n743 Lake St., Springfield MS 25473\\nsamthomas@bogusemail.com\\n\\nPatricia Thomas\\n509-555-5997\\n381 Hill St., Blackwater CT 30958\\npatriciathomas@bogusemail.com\\n\\nJennifer Davis\\n721-555-5632\\n125 Main St., Smalltown MT 62155\\njenniferdavis@bogusemail.com\\n\\nPatricia Brown\\n900-555-3567\\n292 Hill St., Gotham WV 57680\\npatriciabrown@bogusemail.com\\n\\nBarbara Williams\\n147-555-6830\\n514 Park St., Balmora NV 55462\\nbarbarawilliams@bogusemail.com\\n\\nJames Taylor\\n582-555-3426\\n776 Hill St., Dawnstar MA 51312\\njamestaylor@bogusemail.com\\n\\nEric Harris\\n400-555-1706\\n421 Elm St., Smalltown NV 72025\\nbarbaraharris@bogusemail.com\\n\\nTravis Anderson\\n525-555-1793\\n937 Cedar St., Thundera WA 78862\\ntravisanderson@bogusemail.com\\n\\nSam Robinson\\n317-555-6700\\n417 Pine St., Lakeview MD 13147\\nsamrobinson@bogusemail.com\\n\\nSteve Robinson\\n974-555-8301\\n478 Park St., Springfield NM 92369\\nsteverobinson@bogusemail.com\\n\\nMary Wilson\\n800-555-3216\\n708 Maple St., Braavosâ€Ž UT 29551\\nmarywilson@bogusemail.com\\n\\nSam Wilson\\n746-555-4094\\n557 Pearl St., Westworld KS 23225\\nsamwilson@bogusemail.com\\n\\nCharles Jones\\n922-555-1773\\n855 Hill St., Olympus HI 81427\\ncharlesjones@bogusemail.com\\n\\nLaura Brown\\n711-555-4427\\n980 Maple St., Smalltown MO 96421\\nlaurabrown@bogusemail.com\\n\\nTom Harris\\n355-555-1872\\n676 Hill St., Blackwater AR 96698\\ntomharris@bogusemail.com\\n\\nPatricia Taylor\\n852-555-6521\\n588 Pine St., Olympus FL 98412\\npatriciataylor@bogusemail.com\\n\\nBarbara Williams\\n691-555-5773\\n351 Elm St., Sunnydale GA 26245\\nbarbarawilliams@bogusemail.com\\n\\nMaggie Johnson\\n332-555-5441\\n948 Cedar St., Quahog DE 56449\\nmaggiejohnson@bogusemail.com\\n\\nKurt Miller\\n900-555-7755\\n381 Hill St., Quahog AL 97503\\nkurtmiller@bogusemail.com\\n\\nNeil Stuart\\n379-555-3685\\n496 Cedar St., Sunnydale RI 49113\\nneilstuart@bogusemail.com\\n\\nLinda Patterson\\n127-555-9682\\n736 Cedar St., Lakeview KY 47472\\nlindapatterson@bogusemail.com\\n\\nCharles Davis\\n789-555-7032\\n678 Lake St., Mordor MN 11845\\ncharlesdavis@bogusemail.com\\n\\nJennifer Jefferson\\n783-555-5135\\n289 Park St., Sunnydale WA 74526\\njenniferjefferson@bogusemail.com\\n\\nErick Taylor\\n315-555-6507\\n245 Washington St., Bedrock IL 26941\\ncoreytaylor@bogusemail.com\\n\\nRobert Wilks\\n481-555-5835\\n573 Elm St., Sunnydale IL 47182\\nrobertwilks@bogusemail.com\\n\\nTravis Jackson\\n365-555-8287\\n851 Lake St., Metropolis PA 22772\\ntravisjackson@bogusemail.com\\n\\nTravis Jackson\\n911-555-7535\\n489 Oak St., Atlantis HI 73725\\ntravisjackson@bogusemail.com\\n\\nLaura Wilks\\n681-555-2460\\n371 Pearl St., Smalltown SC 47466\\nlaurawilks@bogusemail.com\\n\\nNeil Arnold\\n274-555-9800\\n504 Oak St., Faketown PA 73860\\nneilarnold@bogusemail.com\\n\\nLinda Johnson\\n800-555-1372\\n667 High St., Balmora IN 82473\\nlindajohnson@bogusemail.com\\n\\nJennifer Wilson\\n300-555-7821\\n266 Pine St., Westworld DC 58720\\njenniferwilson@bogusemail.com\\n\\nNicole White\\n133-555-3889\\n276 High St., Braavosâ€Ž IL 57764\\nnicolewhite@bogusemail.com\\n\\nMaria Arnold\\n705-555-6863\\n491 Elm St., Metropolis PA 31836\\nmariaarnold@bogusemail.com\\n\\nJennifer Davis\\n215-555-9449\\n859 Cedar St., Old-town MT 31169\\njenniferdavis@bogusemail.com\\n\\nMary Patterson\\n988-555-6112\\n956 Park St., Valyria CT 81541\\nmarypatterson@bogusemail.com\\n\\nJane Stuart\\n623-555-3006\\n983 Oak St., Old-town RI 15445\\njanestuart@bogusemail.com\\n\\nRobert Davis\\n192-555-4977\\n789 Maple St., Mordor IN 22215\\nrobertdavis@bogusemail.com\\n\\nJames Taylor\\n178-555-4899\\n439 Hill St., Olympus NV 39308\\njamestaylor@bogusemail.com\\n\\nEric Stuart\\n952-555-3089\\n777 High St., King's Landing AZ 16547\\njohnstuart@bogusemail.com\\n\\nCharles Miller\\n900-555-6426\\n207 Washington St., Blackwater MA 24886\\ncharlesmiller@bogusemail.com\""
      ]
     },
     "execution_count": 1,
     "metadata": {},
     "output_type": "execute_result"
    }
   ],
   "source": [
    "open('data.txt','r').read()"
   ]
  },
  {
   "cell_type": "code",
   "execution_count": 2,
   "metadata": {},
   "outputs": [
    {
     "name": "stdout",
     "output_type": "stream",
     "text": [
      "Dave Martin\n",
      "615-555-7164\n",
      "173 Main St., Springfield RI 55924\n",
      "davemartin@bogusemail.com\n",
      "\n",
      "Charles Harris\n",
      "800-555-5669\n",
      "969 High St., Atlantis VA 34075\n",
      "charlesharris@bogusemail.com\n",
      "\n",
      "Eric Williams\n",
      "560-555-5153\n",
      "806 1st St., Faketown AK 86847\n",
      "laurawilliams@bogusemail.com\n",
      "\n",
      "Corey Jefferson\n",
      "900-555-9340\n",
      "826 Elm St., Epicburg NE 10671\n",
      "coreyjefferson@bogusemail.com\n",
      "\n",
      "Jennifer Martin-White\n",
      "714-555-7405\n",
      "212 Cedar St., Sunnydale CT 74983\n",
      "jenniferwhite@bogusemail.com\n",
      "\n",
      "Erick Davis\n",
      "800-555-6771\n",
      "519 Washington St., \n"
     ]
    }
   ],
   "source": [
    "data = open('data.txt','r').read()\n",
    "print(data[:500])"
   ]
  },
  {
   "cell_type": "markdown",
   "metadata": {},
   "source": [
    "## Name Extraction"
   ]
  },
  {
   "cell_type": "code",
   "execution_count": 90,
   "metadata": {},
   "outputs": [],
   "source": [
    "def name_extractor(s):\n",
    "    import re\n",
    "    pattern = \"(^|\\\\n\\\\n)([A-Z]\\w+\\s[A-Z]\\w+)\"\n",
    "    iter_obj = re.finditer(pattern,s)\n",
    "\n",
    "    global names\n",
    "    names = []\n",
    "    for ele in iter_obj:\n",
    "        names.append(ele.group(2))\n",
    "    print(\"list of names are in the list called --> 'names'\")"
   ]
  },
  {
   "cell_type": "code",
   "execution_count": 91,
   "metadata": {},
   "outputs": [
    {
     "name": "stdout",
     "output_type": "stream",
     "text": [
      "list of names are in the list called --> 'names'\n"
     ]
    }
   ],
   "source": [
    "name_extractor(data)"
   ]
  },
  {
   "cell_type": "code",
   "execution_count": 92,
   "metadata": {},
   "outputs": [
    {
     "data": {
      "text/plain": [
       "100"
      ]
     },
     "execution_count": 92,
     "metadata": {},
     "output_type": "execute_result"
    }
   ],
   "source": [
    "len(names)"
   ]
  },
  {
   "cell_type": "code",
   "execution_count": 93,
   "metadata": {},
   "outputs": [
    {
     "data": {
      "text/plain": [
       "['Dave Martin',\n",
       " 'Charles Harris',\n",
       " 'Eric Williams',\n",
       " 'Corey Jefferson',\n",
       " 'Jennifer Martin',\n",
       " 'Erick Davis',\n",
       " 'Neil Patterson',\n",
       " 'Laura Jefferson',\n",
       " 'Maria Johnson',\n",
       " 'Michael Arnold']"
      ]
     },
     "execution_count": 93,
     "metadata": {},
     "output_type": "execute_result"
    }
   ],
   "source": [
    "names[:10]"
   ]
  },
  {
   "cell_type": "markdown",
   "metadata": {},
   "source": [
    "## Masking E-Mails"
   ]
  },
  {
   "cell_type": "markdown",
   "metadata": {},
   "source": [
    "We just have to find a way to extract the valid emails first then we are gonna apply the masking function to mask those emails. So, lets try to find the pattern using regex to extract the valid emails only."
   ]
  },
  {
   "cell_type": "code",
   "execution_count": 59,
   "metadata": {},
   "outputs": [],
   "source": [
    "\"\"\"\n",
    "The function returns an iter object , so to use the iter obj store it first in a pointer first. Each elements in the function is a match object.\n",
    "group(1) --> name \n",
    "group(3) --> domain\n",
    "\"\"\"\n",
    "def is_vemail(s):\n",
    "    import re\n",
    "    email_pattern = \"((\\w+[\\.-])*\\w+)@((\\w+[\\.-])*\\w{2,3})\"\n",
    "    emails_iter = re.finditer(email_pattern,s)\n",
    "    return emails_iter"
   ]
  },
  {
   "cell_type": "code",
   "execution_count": 65,
   "metadata": {},
   "outputs": [],
   "source": [
    "iter_obj = is_vemail(data)\n",
    "email_list = []\n",
    "for email in iter_obj:\n",
    "    email_list.append(email.group())"
   ]
  },
  {
   "cell_type": "code",
   "execution_count": 67,
   "metadata": {},
   "outputs": [
    {
     "data": {
      "text/plain": [
       "100"
      ]
     },
     "execution_count": 67,
     "metadata": {},
     "output_type": "execute_result"
    }
   ],
   "source": [
    "len(email_list)"
   ]
  },
  {
   "cell_type": "code",
   "execution_count": 66,
   "metadata": {},
   "outputs": [
    {
     "data": {
      "text/plain": [
       "['davemartin@bogusemail.com',\n",
       " 'charlesharris@bogusemail.com',\n",
       " 'laurawilliams@bogusemail.com',\n",
       " 'coreyjefferson@bogusemail.com',\n",
       " 'jenniferwhite@bogusemail.com',\n",
       " 'tomdavis@bogusemail.com',\n",
       " 'neilpatterson@bogusemail.com',\n",
       " 'laurajefferson@bogusemail.com',\n",
       " 'mariajohnson@bogusemail.com',\n",
       " 'michaelarnold@bogusemail.com']"
      ]
     },
     "execution_count": 66,
     "metadata": {},
     "output_type": "execute_result"
    }
   ],
   "source": [
    "email_list[:10]"
   ]
  },
  {
   "cell_type": "markdown",
   "metadata": {},
   "source": [
    "Thus we just extracted all the valid emails from the lasrge messi string. Now lets try to mask the emails."
   ]
  },
  {
   "cell_type": "code",
   "execution_count": 77,
   "metadata": {},
   "outputs": [],
   "source": [
    "def mask_email(s):\n",
    "    import re\n",
    "    email_pattern = \"((\\w+[\\.-])*\\w+)@((\\w+[\\.-])*\\w{2,3})\"\n",
    "    emails_iter = re.finditer(email_pattern,s)\n",
    "    \n",
    "    global masked_mails\n",
    "    masked_mails = [] \n",
    "    for email in emails_iter:\n",
    "        name = email.group(1)\n",
    "        domain = email.group(3)\n",
    "        if len(name)\n",
    "        masked = name[0]+'#'*(len(name)-2)+name[-1] + '@' + domain\n",
    "        masked_mails.append(masked)\n",
    "\n",
    "    return \"The masked emails are contained in the list --> 'masked_mails'\""
   ]
  },
  {
   "cell_type": "code",
   "execution_count": 78,
   "metadata": {},
   "outputs": [
    {
     "data": {
      "text/plain": [
       "\"The masked emails are contained in the list --> 'masked_mails'\""
      ]
     },
     "execution_count": 78,
     "metadata": {},
     "output_type": "execute_result"
    }
   ],
   "source": [
    "mask_email(data)"
   ]
  },
  {
   "cell_type": "code",
   "execution_count": 79,
   "metadata": {},
   "outputs": [
    {
     "data": {
      "text/plain": [
       "100"
      ]
     },
     "execution_count": 79,
     "metadata": {},
     "output_type": "execute_result"
    }
   ],
   "source": [
    "len(masked_mails)"
   ]
  },
  {
   "cell_type": "code",
   "execution_count": 80,
   "metadata": {},
   "outputs": [
    {
     "data": {
      "text/plain": [
       "['d########n@bogusemail.com',\n",
       " 'c###########s@bogusemail.com',\n",
       " 'l###########s@bogusemail.com',\n",
       " 'c############n@bogusemail.com',\n",
       " 'j###########e@bogusemail.com',\n",
       " 't######s@bogusemail.com',\n",
       " 'n###########n@bogusemail.com',\n",
       " 'l############n@bogusemail.com',\n",
       " 'm##########n@bogusemail.com',\n",
       " 'm###########d@bogusemail.com']"
      ]
     },
     "execution_count": 80,
     "metadata": {},
     "output_type": "execute_result"
    }
   ],
   "source": [
    "masked_mails[:10]"
   ]
  },
  {
   "cell_type": "markdown",
   "metadata": {},
   "source": [
    "## Masking Phone Numbers :"
   ]
  },
  {
   "cell_type": "code",
   "execution_count": 105,
   "metadata": {},
   "outputs": [],
   "source": [
    "def ph_masking(s):\n",
    "    import re\n",
    "    pattern_ph = '(\\d{3}-){2}\\d{4}'\n",
    "    iter_obj = re.finditer(pattern_ph,s)\n",
    "\n",
    "    global masked_ph\n",
    "    masked_ph = []\n",
    "    for ele in iter_obj:\n",
    "        ph = ele.group()\n",
    "        masked = ph[:3]+'-'+'#'*3+'-'+'#'*3\n",
    "        masked_ph.append(masked)\n",
    "    \n",
    "    return \"masked phone numbers are in a list called --> 'masked_ph'\""
   ]
  },
  {
   "cell_type": "code",
   "execution_count": 106,
   "metadata": {},
   "outputs": [
    {
     "data": {
      "text/plain": [
       "\"masked phone numbers are in a list called --> 'masked_ph'\""
      ]
     },
     "execution_count": 106,
     "metadata": {},
     "output_type": "execute_result"
    }
   ],
   "source": [
    "ph_masking(data)"
   ]
  },
  {
   "cell_type": "code",
   "execution_count": 107,
   "metadata": {},
   "outputs": [
    {
     "data": {
      "text/plain": [
       "100"
      ]
     },
     "execution_count": 107,
     "metadata": {},
     "output_type": "execute_result"
    }
   ],
   "source": [
    "len(masked_ph)"
   ]
  },
  {
   "cell_type": "code",
   "execution_count": 108,
   "metadata": {},
   "outputs": [
    {
     "data": {
      "text/plain": [
       "['615-###-###',\n",
       " '800-###-###',\n",
       " '560-###-###',\n",
       " '900-###-###',\n",
       " '714-###-###',\n",
       " '800-###-###',\n",
       " '783-###-###',\n",
       " '516-###-###',\n",
       " '127-###-###',\n",
       " '608-###-###']"
      ]
     },
     "execution_count": 108,
     "metadata": {},
     "output_type": "execute_result"
    }
   ],
   "source": [
    "masked_ph[:10]"
   ]
  }
 ],
 "metadata": {
  "kernelspec": {
   "display_name": "Python 3.9.7 ('base')",
   "language": "python",
   "name": "python3"
  },
  "language_info": {
   "codemirror_mode": {
    "name": "ipython",
    "version": 3
   },
   "file_extension": ".py",
   "mimetype": "text/x-python",
   "name": "python",
   "nbconvert_exporter": "python",
   "pygments_lexer": "ipython3",
   "version": "3.9.7"
  },
  "orig_nbformat": 4,
  "vscode": {
   "interpreter": {
    "hash": "ac67a110c22b5a2dbfbee94e330edc65ab8c73ef4fe4729cecc84c9bf1ab600c"
   }
  }
 },
 "nbformat": 4,
 "nbformat_minor": 2
}
